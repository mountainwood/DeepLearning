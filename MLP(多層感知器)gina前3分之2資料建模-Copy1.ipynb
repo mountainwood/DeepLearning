{
 "cells": [
  {
   "cell_type": "code",
   "execution_count": 1,
   "metadata": {
    "collapsed": false
   },
   "outputs": [
    {
     "name": "stderr",
     "output_type": "stream",
     "text": [
      "ERROR: To modify pip, please run the following command:\n",
      "D:\\anaconda\\python.exe -m pip install pip\n",
      "You are using pip version 10.0.1, however version 18.0 is available.\n",
      "You should consider upgrading via the 'python -m pip install --upgrade pip' command.\n"
     ]
    }
   ],
   "source": [
    "!pip install pip"
   ]
  },
  {
   "cell_type": "code",
   "execution_count": 94,
   "metadata": {
    "collapsed": false,
    "scrolled": true
   },
   "outputs": [
    {
     "name": "stdout",
     "output_type": "stream",
     "text": [
      "Requirement already satisfied: keras in c:\\users\\big data\\anaconda3\\lib\\site-packages (2.2.0)\n",
      "Requirement already satisfied: h5py in c:\\users\\big data\\anaconda3\\lib\\site-packages (from keras) (2.7.1)\n",
      "Requirement already satisfied: numpy>=1.9.1 in c:\\users\\big data\\anaconda3\\lib\\site-packages (from keras) (1.14.0)\n",
      "Requirement already satisfied: pyyaml in c:\\users\\big data\\anaconda3\\lib\\site-packages (from keras) (3.12)\n",
      "Requirement already satisfied: keras-applications==1.0.2 in c:\\users\\big data\\anaconda3\\lib\\site-packages (from keras) (1.0.2)\n",
      "Requirement already satisfied: scipy>=0.14 in c:\\users\\big data\\anaconda3\\lib\\site-packages (from keras) (1.0.0)\n",
      "Requirement already satisfied: six>=1.9.0 in c:\\users\\big data\\anaconda3\\lib\\site-packages (from keras) (1.11.0)\n",
      "Requirement already satisfied: keras-preprocessing==1.0.1 in c:\\users\\big data\\anaconda3\\lib\\site-packages (from keras) (1.0.1)\n"
     ]
    }
   ],
   "source": [
    "!pip install keras"
   ]
  },
  {
   "cell_type": "code",
   "execution_count": 95,
   "metadata": {
    "collapsed": false
   },
   "outputs": [
    {
     "name": "stdout",
     "output_type": "stream",
     "text": [
      "Collecting tensorflow\n",
      "  Using cached https://files.pythonhosted.org/packages/e7/88/417f18ca7eed5ba9bebd51650d04a4af929f96c10a10fbb3302196f8d098/tensorflow-1.9.0-cp36-cp36m-win_amd64.whl\n",
      "Collecting grpcio>=1.8.6 (from tensorflow)\n",
      "  Using cached https://files.pythonhosted.org/packages/d5/c6/15728549704f9c03db7179b7f99303b91b7703e18a50f5e7b47e59b289ea/grpcio-1.13.0-cp36-cp36m-win_amd64.whl\n",
      "Collecting protobuf>=3.4.0 (from tensorflow)\n",
      "  Using cached https://files.pythonhosted.org/packages/75/7a/0dba607e50b97f6a89fa3f96e23bf56922fa59d748238b30507bfe361bbc/protobuf-3.6.0-cp36-cp36m-win_amd64.whl\n",
      "Requirement already satisfied: six>=1.10.0 in c:\\users\\big data\\anaconda3\\lib\\site-packages (from tensorflow) (1.11.0)\n",
      "Requirement already satisfied: numpy>=1.13.3 in c:\\users\\big data\\anaconda3\\lib\\site-packages (from tensorflow) (1.14.0)\n",
      "Collecting tensorboard<1.10.0,>=1.9.0 (from tensorflow)\n",
      "  Using cached https://files.pythonhosted.org/packages/9e/1f/3da43860db614e294a034e42d4be5c8f7f0d2c75dc1c428c541116d8cdab/tensorboard-1.9.0-py3-none-any.whl\n",
      "Collecting termcolor>=1.1.0 (from tensorflow)\n",
      "  Using cached https://files.pythonhosted.org/packages/8a/48/a76be51647d0eb9f10e2a4511bf3ffb8cc1e6b14e9e4fab46173aa79f981/termcolor-1.1.0.tar.gz\n",
      "Collecting absl-py>=0.1.6 (from tensorflow)\n",
      "  Downloading https://files.pythonhosted.org/packages/96/5d/18feb90462c8edaae71305716c7e8bac479fc9dface63221f808a6b95880/absl-py-0.3.0.tar.gz (84kB)\n",
      "Requirement already satisfied: setuptools<=39.1.0 in c:\\users\\big data\\anaconda3\\lib\\site-packages (from tensorflow) (38.4.0)\n",
      "Collecting gast>=0.2.0 (from tensorflow)\n",
      "  Using cached https://files.pythonhosted.org/packages/5c/78/ff794fcae2ce8aa6323e789d1f8b3b7765f601e7702726f430e814822b96/gast-0.2.0.tar.gz\n",
      "Collecting astor>=0.6.0 (from tensorflow)\n",
      "  Using cached https://files.pythonhosted.org/packages/35/6b/11530768cac581a12952a2aad00e1526b89d242d0b9f59534ef6e6a1752f/astor-0.7.1-py2.py3-none-any.whl\n",
      "Requirement already satisfied: wheel>=0.26 in c:\\users\\big data\\anaconda3\\lib\\site-packages (from tensorflow) (0.30.0)\n",
      "Requirement already satisfied: werkzeug>=0.11.10 in c:\\users\\big data\\anaconda3\\lib\\site-packages (from tensorboard<1.10.0,>=1.9.0->tensorflow) (0.14.1)\n",
      "Collecting markdown>=2.6.8 (from tensorboard<1.10.0,>=1.9.0->tensorflow)\n",
      "  Using cached https://files.pythonhosted.org/packages/6d/7d/488b90f470b96531a3f5788cf12a93332f543dbab13c423a5e7ce96a0493/Markdown-2.6.11-py2.py3-none-any.whl\n",
      "Building wheels for collected packages: termcolor, absl-py, gast\n",
      "  Running setup.py bdist_wheel for termcolor: started\n",
      "  Running setup.py bdist_wheel for termcolor: finished with status 'done'\n",
      "  Stored in directory: C:\\Users\\Big data\\AppData\\Local\\pip\\Cache\\wheels\\7c\\06\\54\\bc84598ba1daf8f970247f550b175aaaee85f68b4b0c5ab2c6\n",
      "  Running setup.py bdist_wheel for absl-py: started\n",
      "  Running setup.py bdist_wheel for absl-py: finished with status 'done'\n",
      "  Stored in directory: C:\\Users\\Big data\\AppData\\Local\\pip\\Cache\\wheels\\4c\\16\\ef\\e36a23f2432e9220f8845f94e2c3abd39e7d9d1cd458d3159d\n",
      "  Running setup.py bdist_wheel for gast: started\n",
      "  Running setup.py bdist_wheel for gast: finished with status 'done'\n",
      "  Stored in directory: C:\\Users\\Big data\\AppData\\Local\\pip\\Cache\\wheels\\9a\\1f\\0e\\3cde98113222b853e98fc0a8e9924480a3e25f1b4008cedb4f\n",
      "Successfully built termcolor absl-py gast\n",
      "Installing collected packages: grpcio, protobuf, markdown, tensorboard, termcolor, absl-py, gast, astor, tensorflow\n",
      "Successfully installed absl-py-0.3.0 astor-0.7.1 gast-0.2.0 grpcio-1.13.0 markdown-2.6.11 protobuf-3.6.0 tensorboard-1.9.0 tensorflow-1.9.0 termcolor-1.1.0\n"
     ]
    }
   ],
   "source": [
    "!pip install tensorflow"
   ]
  },
  {
   "cell_type": "code",
   "execution_count": null,
   "metadata": {
    "collapsed": true
   },
   "outputs": [],
   "source": []
  },
  {
   "cell_type": "code",
   "execution_count": null,
   "metadata": {
    "collapsed": true
   },
   "outputs": [],
   "source": []
  },
  {
   "cell_type": "code",
   "execution_count": null,
   "metadata": {
    "collapsed": true
   },
   "outputs": [],
   "source": [
    "*******gina前2/3資料+oldmom A2做模型********\n",
    "*******gina後1/3資料+oldmom A1資料做預測********"
   ]
  },
  {
   "cell_type": "markdown",
   "metadata": {},
   "source": [
    "***資料預處理***"
   ]
  },
  {
   "cell_type": "code",
   "execution_count": 2,
   "metadata": {
    "collapsed": false
   },
   "outputs": [
    {
     "name": "stderr",
     "output_type": "stream",
     "text": [
      "C:\\Users\\Big data\\Anaconda3\\lib\\site-packages\\h5py\\__init__.py:36: FutureWarning: Conversion of the second argument of issubdtype from `float` to `np.floating` is deprecated. In future, it will be treated as `np.float64 == np.dtype(float).type`.\n",
      "  from ._conv import register_converters as _register_converters\n",
      "Using TensorFlow backend.\n"
     ]
    }
   ],
   "source": [
    "import numpy as np\n",
    "import pandas as pd\n",
    "from sklearn import preprocessing\n",
    "from keras.utils import np_utils        #OneHot encoding用\n",
    "np.random.seed(10)"
   ]
  },
  {
   "cell_type": "markdown",
   "metadata": {},
   "source": [
    "data0 = pd.read_csv('C:/Users/ASUS/Desktop/action-aftershift/stand-0.csv')\n",
    "data1 = pd.read_csv('C:/Users/ASUS/Desktop/action-aftershift/walk-1.csv')\n",
    "data2 = pd.read_csv('C:/Users/ASUS/Desktop/action-aftershift/run-2.csv')\n",
    "data3 = pd.read_csv('C:/Users/ASUS/Desktop/action-aftershift/lie-3.csv')\n",
    "data4 = pd.read_csv('C:/Users/ASUS/Desktop/action-aftershift/sit-4.csv')"
   ]
  },
  {
   "cell_type": "code",
   "execution_count": 427,
   "metadata": {
    "collapsed": true
   },
   "outputs": [],
   "source": [
    "data0 = pd.read_csv('C:/Users/Big data/Desktop/action-aftershift/stand-0.csv')\n",
    "data1 = pd.read_csv('C:/Users/Big data/Desktop/action-aftershift/walk-1.csv')\n",
    "data2 = pd.read_csv('C:/Users/Big data/Desktop/action-aftershift/run-2.csv')\n",
    "data3 = pd.read_csv('C:/Users/Big data/Desktop/action-aftershift/lie-3.csv')\n",
    "data4 = pd.read_csv('C:/Users/Big data/Desktop/action-aftershift/sit-4.csv')"
   ]
  },
  {
   "cell_type": "code",
   "execution_count": null,
   "metadata": {
    "collapsed": true
   },
   "outputs": [],
   "source": []
  },
  {
   "cell_type": "markdown",
   "metadata": {},
   "source": [
    "# concatData_x"
   ]
  },
  {
   "cell_type": "code",
   "execution_count": 428,
   "metadata": {
    "collapsed": true
   },
   "outputs": [],
   "source": [
    "#只取需要的6個col\n",
    "col = ['accel_xout_scaled','accel_yout_scaled','accel_zout_scaled','gyro_xout_scaled','gyro_yout_scaled','gyro_zout_scaled']\n",
    "\n",
    "data0 = data0[col]\n",
    "data1 = data1[col]\n",
    "data2 = data2[col]\n",
    "data3 = data3[col]\n",
    "data4 = data4[col]"
   ]
  },
  {
   "cell_type": "code",
   "execution_count": 429,
   "metadata": {
    "collapsed": true
   },
   "outputs": [],
   "source": [
    "#取前12000筆資料\n",
    "data0 = data0[:16800]\n",
    "data1 = data1[:16800]\n",
    "data2 = data2[:16800]\n",
    "data3 = data3[:16128]\n",
    "data4 = data4[:672]"
   ]
  },
  {
   "cell_type": "code",
   "execution_count": null,
   "metadata": {
    "collapsed": true
   },
   "outputs": [],
   "source": []
  },
  {
   "cell_type": "code",
   "execution_count": 430,
   "metadata": {
    "collapsed": false
   },
   "outputs": [
    {
     "data": {
      "text/html": [
       "<div>\n",
       "<style scoped>\n",
       "    .dataframe tbody tr th:only-of-type {\n",
       "        vertical-align: middle;\n",
       "    }\n",
       "\n",
       "    .dataframe tbody tr th {\n",
       "        vertical-align: top;\n",
       "    }\n",
       "\n",
       "    .dataframe thead th {\n",
       "        text-align: right;\n",
       "    }\n",
       "</style>\n",
       "<table border=\"1\" class=\"dataframe\">\n",
       "  <thead>\n",
       "    <tr style=\"text-align: right;\">\n",
       "      <th></th>\n",
       "      <th>accel_xout_scaled</th>\n",
       "      <th>accel_yout_scaled</th>\n",
       "      <th>accel_zout_scaled</th>\n",
       "      <th>gyro_xout_scaled</th>\n",
       "      <th>gyro_yout_scaled</th>\n",
       "      <th>gyro_zout_scaled</th>\n",
       "    </tr>\n",
       "  </thead>\n",
       "  <tbody>\n",
       "    <tr>\n",
       "      <th>0</th>\n",
       "      <td>1.97998</td>\n",
       "      <td>0.36377</td>\n",
       "      <td>-9.64600</td>\n",
       "      <td>0.80153</td>\n",
       "      <td>-2.12214</td>\n",
       "      <td>2.10687</td>\n",
       "    </tr>\n",
       "    <tr>\n",
       "      <th>1</th>\n",
       "      <td>1.90674</td>\n",
       "      <td>0.31250</td>\n",
       "      <td>-9.68994</td>\n",
       "      <td>-0.01527</td>\n",
       "      <td>-2.41985</td>\n",
       "      <td>1.54198</td>\n",
       "    </tr>\n",
       "    <tr>\n",
       "      <th>2</th>\n",
       "      <td>1.79443</td>\n",
       "      <td>0.43701</td>\n",
       "      <td>-9.72900</td>\n",
       "      <td>0.55725</td>\n",
       "      <td>-1.03053</td>\n",
       "      <td>1.19084</td>\n",
       "    </tr>\n",
       "    <tr>\n",
       "      <th>3</th>\n",
       "      <td>2.00439</td>\n",
       "      <td>0.38574</td>\n",
       "      <td>-9.67529</td>\n",
       "      <td>0.06107</td>\n",
       "      <td>-0.51145</td>\n",
       "      <td>0.69466</td>\n",
       "    </tr>\n",
       "    <tr>\n",
       "      <th>4</th>\n",
       "      <td>1.97998</td>\n",
       "      <td>0.44678</td>\n",
       "      <td>-9.80225</td>\n",
       "      <td>-0.09924</td>\n",
       "      <td>-0.53435</td>\n",
       "      <td>0.12977</td>\n",
       "    </tr>\n",
       "    <tr>\n",
       "      <th>5</th>\n",
       "      <td>1.99707</td>\n",
       "      <td>0.46143</td>\n",
       "      <td>-9.70215</td>\n",
       "      <td>0.67939</td>\n",
       "      <td>-1.25954</td>\n",
       "      <td>0.31298</td>\n",
       "    </tr>\n",
       "    <tr>\n",
       "      <th>6</th>\n",
       "      <td>1.94336</td>\n",
       "      <td>0.38086</td>\n",
       "      <td>-9.83643</td>\n",
       "      <td>1.39695</td>\n",
       "      <td>-0.98473</td>\n",
       "      <td>0.88550</td>\n",
       "    </tr>\n",
       "    <tr>\n",
       "      <th>7</th>\n",
       "      <td>1.92383</td>\n",
       "      <td>0.36865</td>\n",
       "      <td>-9.58252</td>\n",
       "      <td>1.66412</td>\n",
       "      <td>-2.09924</td>\n",
       "      <td>0.05344</td>\n",
       "    </tr>\n",
       "    <tr>\n",
       "      <th>8</th>\n",
       "      <td>1.94092</td>\n",
       "      <td>0.39551</td>\n",
       "      <td>-9.61670</td>\n",
       "      <td>1.49618</td>\n",
       "      <td>-2.77863</td>\n",
       "      <td>1.94656</td>\n",
       "    </tr>\n",
       "    <tr>\n",
       "      <th>9</th>\n",
       "      <td>1.79443</td>\n",
       "      <td>0.41260</td>\n",
       "      <td>-9.96338</td>\n",
       "      <td>2.94656</td>\n",
       "      <td>-3.41985</td>\n",
       "      <td>0.80153</td>\n",
       "    </tr>\n",
       "    <tr>\n",
       "      <th>10</th>\n",
       "      <td>1.88232</td>\n",
       "      <td>0.29541</td>\n",
       "      <td>-9.82422</td>\n",
       "      <td>2.79389</td>\n",
       "      <td>-2.27481</td>\n",
       "      <td>0.20611</td>\n",
       "    </tr>\n",
       "    <tr>\n",
       "      <th>11</th>\n",
       "      <td>1.86035</td>\n",
       "      <td>0.26611</td>\n",
       "      <td>-9.78271</td>\n",
       "      <td>2.74046</td>\n",
       "      <td>-1.41985</td>\n",
       "      <td>0.75573</td>\n",
       "    </tr>\n",
       "    <tr>\n",
       "      <th>12</th>\n",
       "      <td>1.99707</td>\n",
       "      <td>0.01221</td>\n",
       "      <td>-9.67041</td>\n",
       "      <td>0.80916</td>\n",
       "      <td>-2.54962</td>\n",
       "      <td>1.22137</td>\n",
       "    </tr>\n",
       "    <tr>\n",
       "      <th>13</th>\n",
       "      <td>1.88232</td>\n",
       "      <td>0.02197</td>\n",
       "      <td>-9.82666</td>\n",
       "      <td>-1.78626</td>\n",
       "      <td>-3.47328</td>\n",
       "      <td>2.65649</td>\n",
       "    </tr>\n",
       "    <tr>\n",
       "      <th>14</th>\n",
       "      <td>1.93604</td>\n",
       "      <td>0.23193</td>\n",
       "      <td>-10.06592</td>\n",
       "      <td>-2.18321</td>\n",
       "      <td>-3.36641</td>\n",
       "      <td>4.09160</td>\n",
       "    </tr>\n",
       "    <tr>\n",
       "      <th>15</th>\n",
       "      <td>1.88721</td>\n",
       "      <td>0.14893</td>\n",
       "      <td>-9.77783</td>\n",
       "      <td>-1.45802</td>\n",
       "      <td>-3.70229</td>\n",
       "      <td>3.47328</td>\n",
       "    </tr>\n",
       "    <tr>\n",
       "      <th>16</th>\n",
       "      <td>1.80908</td>\n",
       "      <td>0.03662</td>\n",
       "      <td>-9.96338</td>\n",
       "      <td>-2.45802</td>\n",
       "      <td>-1.95420</td>\n",
       "      <td>2.98473</td>\n",
       "    </tr>\n",
       "    <tr>\n",
       "      <th>17</th>\n",
       "      <td>1.84814</td>\n",
       "      <td>0.07568</td>\n",
       "      <td>-9.82910</td>\n",
       "      <td>-3.69466</td>\n",
       "      <td>-1.02290</td>\n",
       "      <td>3.11450</td>\n",
       "    </tr>\n",
       "    <tr>\n",
       "      <th>18</th>\n",
       "      <td>1.84814</td>\n",
       "      <td>0.00000</td>\n",
       "      <td>-9.57275</td>\n",
       "      <td>-3.78626</td>\n",
       "      <td>-1.25954</td>\n",
       "      <td>3.75573</td>\n",
       "    </tr>\n",
       "    <tr>\n",
       "      <th>19</th>\n",
       "      <td>1.83350</td>\n",
       "      <td>0.19775</td>\n",
       "      <td>-9.64600</td>\n",
       "      <td>-4.21374</td>\n",
       "      <td>-1.51908</td>\n",
       "      <td>3.87786</td>\n",
       "    </tr>\n",
       "    <tr>\n",
       "      <th>20</th>\n",
       "      <td>1.84326</td>\n",
       "      <td>0.23682</td>\n",
       "      <td>-9.77051</td>\n",
       "      <td>-4.09160</td>\n",
       "      <td>-2.29008</td>\n",
       "      <td>4.09924</td>\n",
       "    </tr>\n",
       "    <tr>\n",
       "      <th>21</th>\n",
       "      <td>1.93359</td>\n",
       "      <td>0.27344</td>\n",
       "      <td>-9.81201</td>\n",
       "      <td>-3.65649</td>\n",
       "      <td>-1.92366</td>\n",
       "      <td>4.06870</td>\n",
       "    </tr>\n",
       "    <tr>\n",
       "      <th>22</th>\n",
       "      <td>1.89941</td>\n",
       "      <td>0.18799</td>\n",
       "      <td>-9.76318</td>\n",
       "      <td>-2.43511</td>\n",
       "      <td>-3.62595</td>\n",
       "      <td>4.06107</td>\n",
       "    </tr>\n",
       "    <tr>\n",
       "      <th>23</th>\n",
       "      <td>1.75049</td>\n",
       "      <td>0.20264</td>\n",
       "      <td>-9.71436</td>\n",
       "      <td>-2.74046</td>\n",
       "      <td>-3.85496</td>\n",
       "      <td>4.51908</td>\n",
       "    </tr>\n",
       "    <tr>\n",
       "      <th>24</th>\n",
       "      <td>1.67236</td>\n",
       "      <td>0.27832</td>\n",
       "      <td>-9.65332</td>\n",
       "      <td>-3.35115</td>\n",
       "      <td>-2.53435</td>\n",
       "      <td>4.96947</td>\n",
       "    </tr>\n",
       "    <tr>\n",
       "      <th>25</th>\n",
       "      <td>1.85547</td>\n",
       "      <td>0.21484</td>\n",
       "      <td>-9.87061</td>\n",
       "      <td>-2.45038</td>\n",
       "      <td>-2.70229</td>\n",
       "      <td>4.75573</td>\n",
       "    </tr>\n",
       "    <tr>\n",
       "      <th>26</th>\n",
       "      <td>1.70166</td>\n",
       "      <td>0.19287</td>\n",
       "      <td>-9.84131</td>\n",
       "      <td>-2.29771</td>\n",
       "      <td>-0.56489</td>\n",
       "      <td>4.12214</td>\n",
       "    </tr>\n",
       "    <tr>\n",
       "      <th>27</th>\n",
       "      <td>1.76514</td>\n",
       "      <td>0.22705</td>\n",
       "      <td>-9.74609</td>\n",
       "      <td>-2.87786</td>\n",
       "      <td>1.89313</td>\n",
       "      <td>4.54962</td>\n",
       "    </tr>\n",
       "    <tr>\n",
       "      <th>28</th>\n",
       "      <td>1.83594</td>\n",
       "      <td>0.18066</td>\n",
       "      <td>-9.72412</td>\n",
       "      <td>-2.70229</td>\n",
       "      <td>-2.83969</td>\n",
       "      <td>4.70229</td>\n",
       "    </tr>\n",
       "    <tr>\n",
       "      <th>29</th>\n",
       "      <td>1.84326</td>\n",
       "      <td>0.28564</td>\n",
       "      <td>-9.89014</td>\n",
       "      <td>-0.48855</td>\n",
       "      <td>-3.00763</td>\n",
       "      <td>4.10687</td>\n",
       "    </tr>\n",
       "    <tr>\n",
       "      <th>...</th>\n",
       "      <td>...</td>\n",
       "      <td>...</td>\n",
       "      <td>...</td>\n",
       "      <td>...</td>\n",
       "      <td>...</td>\n",
       "      <td>...</td>\n",
       "    </tr>\n",
       "    <tr>\n",
       "      <th>16770</th>\n",
       "      <td>-0.89844</td>\n",
       "      <td>-1.16699</td>\n",
       "      <td>-9.99512</td>\n",
       "      <td>0.63359</td>\n",
       "      <td>-0.24427</td>\n",
       "      <td>-0.60305</td>\n",
       "    </tr>\n",
       "    <tr>\n",
       "      <th>16771</th>\n",
       "      <td>-0.87646</td>\n",
       "      <td>-1.19141</td>\n",
       "      <td>-9.85352</td>\n",
       "      <td>-0.24427</td>\n",
       "      <td>-0.10687</td>\n",
       "      <td>-0.70992</td>\n",
       "    </tr>\n",
       "    <tr>\n",
       "      <th>16772</th>\n",
       "      <td>-0.89355</td>\n",
       "      <td>-1.18164</td>\n",
       "      <td>-9.74121</td>\n",
       "      <td>0.32061</td>\n",
       "      <td>0.19847</td>\n",
       "      <td>0.13740</td>\n",
       "    </tr>\n",
       "    <tr>\n",
       "      <th>16773</th>\n",
       "      <td>-0.65918</td>\n",
       "      <td>-1.12061</td>\n",
       "      <td>-9.86816</td>\n",
       "      <td>1.16031</td>\n",
       "      <td>0.29771</td>\n",
       "      <td>0.46565</td>\n",
       "    </tr>\n",
       "    <tr>\n",
       "      <th>16774</th>\n",
       "      <td>-0.80078</td>\n",
       "      <td>-1.20605</td>\n",
       "      <td>-9.76318</td>\n",
       "      <td>1.64122</td>\n",
       "      <td>-0.80153</td>\n",
       "      <td>0.11450</td>\n",
       "    </tr>\n",
       "    <tr>\n",
       "      <th>16775</th>\n",
       "      <td>-1.05713</td>\n",
       "      <td>-1.29395</td>\n",
       "      <td>-9.79004</td>\n",
       "      <td>1.70229</td>\n",
       "      <td>-1.90076</td>\n",
       "      <td>1.12977</td>\n",
       "    </tr>\n",
       "    <tr>\n",
       "      <th>16776</th>\n",
       "      <td>-0.92529</td>\n",
       "      <td>-1.30615</td>\n",
       "      <td>-9.76562</td>\n",
       "      <td>1.50382</td>\n",
       "      <td>0.09160</td>\n",
       "      <td>0.57252</td>\n",
       "    </tr>\n",
       "    <tr>\n",
       "      <th>16777</th>\n",
       "      <td>-0.89844</td>\n",
       "      <td>-1.33057</td>\n",
       "      <td>-9.77295</td>\n",
       "      <td>0.61069</td>\n",
       "      <td>0.25954</td>\n",
       "      <td>0.48092</td>\n",
       "    </tr>\n",
       "    <tr>\n",
       "      <th>16778</th>\n",
       "      <td>-0.79102</td>\n",
       "      <td>-1.27686</td>\n",
       "      <td>-9.99756</td>\n",
       "      <td>1.12214</td>\n",
       "      <td>1.05344</td>\n",
       "      <td>0.70229</td>\n",
       "    </tr>\n",
       "    <tr>\n",
       "      <th>16779</th>\n",
       "      <td>-0.59326</td>\n",
       "      <td>-1.50391</td>\n",
       "      <td>-9.87793</td>\n",
       "      <td>0.06107</td>\n",
       "      <td>-1.48092</td>\n",
       "      <td>0.91603</td>\n",
       "    </tr>\n",
       "    <tr>\n",
       "      <th>16780</th>\n",
       "      <td>-0.52490</td>\n",
       "      <td>-1.46973</td>\n",
       "      <td>-9.79980</td>\n",
       "      <td>-1.28244</td>\n",
       "      <td>-0.00763</td>\n",
       "      <td>0.27481</td>\n",
       "    </tr>\n",
       "    <tr>\n",
       "      <th>16781</th>\n",
       "      <td>-0.66162</td>\n",
       "      <td>-1.35986</td>\n",
       "      <td>-9.80957</td>\n",
       "      <td>-1.08397</td>\n",
       "      <td>-2.89313</td>\n",
       "      <td>1.16031</td>\n",
       "    </tr>\n",
       "    <tr>\n",
       "      <th>16782</th>\n",
       "      <td>-0.76416</td>\n",
       "      <td>-1.30371</td>\n",
       "      <td>-9.84375</td>\n",
       "      <td>0.82443</td>\n",
       "      <td>-5.27481</td>\n",
       "      <td>4.03053</td>\n",
       "    </tr>\n",
       "    <tr>\n",
       "      <th>16783</th>\n",
       "      <td>-0.93262</td>\n",
       "      <td>-1.29883</td>\n",
       "      <td>-9.81201</td>\n",
       "      <td>1.41221</td>\n",
       "      <td>-4.61069</td>\n",
       "      <td>7.19084</td>\n",
       "    </tr>\n",
       "    <tr>\n",
       "      <th>16784</th>\n",
       "      <td>-0.94971</td>\n",
       "      <td>-1.33057</td>\n",
       "      <td>-9.61426</td>\n",
       "      <td>3.29008</td>\n",
       "      <td>-4.27481</td>\n",
       "      <td>11.57252</td>\n",
       "    </tr>\n",
       "    <tr>\n",
       "      <th>16785</th>\n",
       "      <td>-1.31592</td>\n",
       "      <td>-1.35010</td>\n",
       "      <td>-9.56055</td>\n",
       "      <td>4.41221</td>\n",
       "      <td>-2.80153</td>\n",
       "      <td>17.32061</td>\n",
       "    </tr>\n",
       "    <tr>\n",
       "      <th>16786</th>\n",
       "      <td>-1.30371</td>\n",
       "      <td>-1.36963</td>\n",
       "      <td>-9.71680</td>\n",
       "      <td>4.76336</td>\n",
       "      <td>1.92366</td>\n",
       "      <td>20.10687</td>\n",
       "    </tr>\n",
       "    <tr>\n",
       "      <th>16787</th>\n",
       "      <td>-1.24268</td>\n",
       "      <td>-1.56250</td>\n",
       "      <td>-9.87305</td>\n",
       "      <td>5.69466</td>\n",
       "      <td>2.18321</td>\n",
       "      <td>21.91603</td>\n",
       "    </tr>\n",
       "    <tr>\n",
       "      <th>16788</th>\n",
       "      <td>-1.39404</td>\n",
       "      <td>-1.48682</td>\n",
       "      <td>-9.74609</td>\n",
       "      <td>6.20611</td>\n",
       "      <td>2.82443</td>\n",
       "      <td>26.21374</td>\n",
       "    </tr>\n",
       "    <tr>\n",
       "      <th>16789</th>\n",
       "      <td>-1.30615</td>\n",
       "      <td>-1.56982</td>\n",
       "      <td>-9.84375</td>\n",
       "      <td>6.51145</td>\n",
       "      <td>3.38168</td>\n",
       "      <td>26.79389</td>\n",
       "    </tr>\n",
       "    <tr>\n",
       "      <th>16790</th>\n",
       "      <td>-1.21094</td>\n",
       "      <td>-1.59912</td>\n",
       "      <td>-9.84375</td>\n",
       "      <td>6.54198</td>\n",
       "      <td>3.16031</td>\n",
       "      <td>26.70992</td>\n",
       "    </tr>\n",
       "    <tr>\n",
       "      <th>16791</th>\n",
       "      <td>-1.22803</td>\n",
       "      <td>-1.58936</td>\n",
       "      <td>-9.76074</td>\n",
       "      <td>8.03817</td>\n",
       "      <td>4.48092</td>\n",
       "      <td>25.63359</td>\n",
       "    </tr>\n",
       "    <tr>\n",
       "      <th>16792</th>\n",
       "      <td>-1.21582</td>\n",
       "      <td>-1.61377</td>\n",
       "      <td>-9.70215</td>\n",
       "      <td>7.38931</td>\n",
       "      <td>5.98473</td>\n",
       "      <td>21.58779</td>\n",
       "    </tr>\n",
       "    <tr>\n",
       "      <th>16793</th>\n",
       "      <td>-1.14258</td>\n",
       "      <td>-1.60156</td>\n",
       "      <td>-9.64600</td>\n",
       "      <td>7.67176</td>\n",
       "      <td>6.91603</td>\n",
       "      <td>16.69466</td>\n",
       "    </tr>\n",
       "    <tr>\n",
       "      <th>16794</th>\n",
       "      <td>-0.95215</td>\n",
       "      <td>-1.81152</td>\n",
       "      <td>-9.66553</td>\n",
       "      <td>6.35115</td>\n",
       "      <td>8.25191</td>\n",
       "      <td>11.48092</td>\n",
       "    </tr>\n",
       "    <tr>\n",
       "      <th>16795</th>\n",
       "      <td>-0.84717</td>\n",
       "      <td>-1.81152</td>\n",
       "      <td>-9.84375</td>\n",
       "      <td>5.24427</td>\n",
       "      <td>8.50382</td>\n",
       "      <td>7.70992</td>\n",
       "    </tr>\n",
       "    <tr>\n",
       "      <th>16796</th>\n",
       "      <td>-0.72021</td>\n",
       "      <td>-1.92627</td>\n",
       "      <td>-9.75098</td>\n",
       "      <td>3.63359</td>\n",
       "      <td>7.62595</td>\n",
       "      <td>5.58015</td>\n",
       "    </tr>\n",
       "    <tr>\n",
       "      <th>16797</th>\n",
       "      <td>-0.60791</td>\n",
       "      <td>-1.86768</td>\n",
       "      <td>-9.65820</td>\n",
       "      <td>2.92366</td>\n",
       "      <td>4.74046</td>\n",
       "      <td>4.51908</td>\n",
       "    </tr>\n",
       "    <tr>\n",
       "      <th>16798</th>\n",
       "      <td>-0.63232</td>\n",
       "      <td>-1.58203</td>\n",
       "      <td>-9.78271</td>\n",
       "      <td>3.35115</td>\n",
       "      <td>4.76336</td>\n",
       "      <td>0.09924</td>\n",
       "    </tr>\n",
       "    <tr>\n",
       "      <th>16799</th>\n",
       "      <td>-0.63965</td>\n",
       "      <td>-1.82373</td>\n",
       "      <td>-9.64111</td>\n",
       "      <td>3.60305</td>\n",
       "      <td>5.28244</td>\n",
       "      <td>-4.42748</td>\n",
       "    </tr>\n",
       "  </tbody>\n",
       "</table>\n",
       "<p>16800 rows × 6 columns</p>\n",
       "</div>"
      ],
      "text/plain": [
       "       accel_xout_scaled  accel_yout_scaled  accel_zout_scaled  \\\n",
       "0                1.97998            0.36377           -9.64600   \n",
       "1                1.90674            0.31250           -9.68994   \n",
       "2                1.79443            0.43701           -9.72900   \n",
       "3                2.00439            0.38574           -9.67529   \n",
       "4                1.97998            0.44678           -9.80225   \n",
       "5                1.99707            0.46143           -9.70215   \n",
       "6                1.94336            0.38086           -9.83643   \n",
       "7                1.92383            0.36865           -9.58252   \n",
       "8                1.94092            0.39551           -9.61670   \n",
       "9                1.79443            0.41260           -9.96338   \n",
       "10               1.88232            0.29541           -9.82422   \n",
       "11               1.86035            0.26611           -9.78271   \n",
       "12               1.99707            0.01221           -9.67041   \n",
       "13               1.88232            0.02197           -9.82666   \n",
       "14               1.93604            0.23193          -10.06592   \n",
       "15               1.88721            0.14893           -9.77783   \n",
       "16               1.80908            0.03662           -9.96338   \n",
       "17               1.84814            0.07568           -9.82910   \n",
       "18               1.84814            0.00000           -9.57275   \n",
       "19               1.83350            0.19775           -9.64600   \n",
       "20               1.84326            0.23682           -9.77051   \n",
       "21               1.93359            0.27344           -9.81201   \n",
       "22               1.89941            0.18799           -9.76318   \n",
       "23               1.75049            0.20264           -9.71436   \n",
       "24               1.67236            0.27832           -9.65332   \n",
       "25               1.85547            0.21484           -9.87061   \n",
       "26               1.70166            0.19287           -9.84131   \n",
       "27               1.76514            0.22705           -9.74609   \n",
       "28               1.83594            0.18066           -9.72412   \n",
       "29               1.84326            0.28564           -9.89014   \n",
       "...                  ...                ...                ...   \n",
       "16770           -0.89844           -1.16699           -9.99512   \n",
       "16771           -0.87646           -1.19141           -9.85352   \n",
       "16772           -0.89355           -1.18164           -9.74121   \n",
       "16773           -0.65918           -1.12061           -9.86816   \n",
       "16774           -0.80078           -1.20605           -9.76318   \n",
       "16775           -1.05713           -1.29395           -9.79004   \n",
       "16776           -0.92529           -1.30615           -9.76562   \n",
       "16777           -0.89844           -1.33057           -9.77295   \n",
       "16778           -0.79102           -1.27686           -9.99756   \n",
       "16779           -0.59326           -1.50391           -9.87793   \n",
       "16780           -0.52490           -1.46973           -9.79980   \n",
       "16781           -0.66162           -1.35986           -9.80957   \n",
       "16782           -0.76416           -1.30371           -9.84375   \n",
       "16783           -0.93262           -1.29883           -9.81201   \n",
       "16784           -0.94971           -1.33057           -9.61426   \n",
       "16785           -1.31592           -1.35010           -9.56055   \n",
       "16786           -1.30371           -1.36963           -9.71680   \n",
       "16787           -1.24268           -1.56250           -9.87305   \n",
       "16788           -1.39404           -1.48682           -9.74609   \n",
       "16789           -1.30615           -1.56982           -9.84375   \n",
       "16790           -1.21094           -1.59912           -9.84375   \n",
       "16791           -1.22803           -1.58936           -9.76074   \n",
       "16792           -1.21582           -1.61377           -9.70215   \n",
       "16793           -1.14258           -1.60156           -9.64600   \n",
       "16794           -0.95215           -1.81152           -9.66553   \n",
       "16795           -0.84717           -1.81152           -9.84375   \n",
       "16796           -0.72021           -1.92627           -9.75098   \n",
       "16797           -0.60791           -1.86768           -9.65820   \n",
       "16798           -0.63232           -1.58203           -9.78271   \n",
       "16799           -0.63965           -1.82373           -9.64111   \n",
       "\n",
       "       gyro_xout_scaled  gyro_yout_scaled  gyro_zout_scaled  \n",
       "0               0.80153          -2.12214           2.10687  \n",
       "1              -0.01527          -2.41985           1.54198  \n",
       "2               0.55725          -1.03053           1.19084  \n",
       "3               0.06107          -0.51145           0.69466  \n",
       "4              -0.09924          -0.53435           0.12977  \n",
       "5               0.67939          -1.25954           0.31298  \n",
       "6               1.39695          -0.98473           0.88550  \n",
       "7               1.66412          -2.09924           0.05344  \n",
       "8               1.49618          -2.77863           1.94656  \n",
       "9               2.94656          -3.41985           0.80153  \n",
       "10              2.79389          -2.27481           0.20611  \n",
       "11              2.74046          -1.41985           0.75573  \n",
       "12              0.80916          -2.54962           1.22137  \n",
       "13             -1.78626          -3.47328           2.65649  \n",
       "14             -2.18321          -3.36641           4.09160  \n",
       "15             -1.45802          -3.70229           3.47328  \n",
       "16             -2.45802          -1.95420           2.98473  \n",
       "17             -3.69466          -1.02290           3.11450  \n",
       "18             -3.78626          -1.25954           3.75573  \n",
       "19             -4.21374          -1.51908           3.87786  \n",
       "20             -4.09160          -2.29008           4.09924  \n",
       "21             -3.65649          -1.92366           4.06870  \n",
       "22             -2.43511          -3.62595           4.06107  \n",
       "23             -2.74046          -3.85496           4.51908  \n",
       "24             -3.35115          -2.53435           4.96947  \n",
       "25             -2.45038          -2.70229           4.75573  \n",
       "26             -2.29771          -0.56489           4.12214  \n",
       "27             -2.87786           1.89313           4.54962  \n",
       "28             -2.70229          -2.83969           4.70229  \n",
       "29             -0.48855          -3.00763           4.10687  \n",
       "...                 ...               ...               ...  \n",
       "16770           0.63359          -0.24427          -0.60305  \n",
       "16771          -0.24427          -0.10687          -0.70992  \n",
       "16772           0.32061           0.19847           0.13740  \n",
       "16773           1.16031           0.29771           0.46565  \n",
       "16774           1.64122          -0.80153           0.11450  \n",
       "16775           1.70229          -1.90076           1.12977  \n",
       "16776           1.50382           0.09160           0.57252  \n",
       "16777           0.61069           0.25954           0.48092  \n",
       "16778           1.12214           1.05344           0.70229  \n",
       "16779           0.06107          -1.48092           0.91603  \n",
       "16780          -1.28244          -0.00763           0.27481  \n",
       "16781          -1.08397          -2.89313           1.16031  \n",
       "16782           0.82443          -5.27481           4.03053  \n",
       "16783           1.41221          -4.61069           7.19084  \n",
       "16784           3.29008          -4.27481          11.57252  \n",
       "16785           4.41221          -2.80153          17.32061  \n",
       "16786           4.76336           1.92366          20.10687  \n",
       "16787           5.69466           2.18321          21.91603  \n",
       "16788           6.20611           2.82443          26.21374  \n",
       "16789           6.51145           3.38168          26.79389  \n",
       "16790           6.54198           3.16031          26.70992  \n",
       "16791           8.03817           4.48092          25.63359  \n",
       "16792           7.38931           5.98473          21.58779  \n",
       "16793           7.67176           6.91603          16.69466  \n",
       "16794           6.35115           8.25191          11.48092  \n",
       "16795           5.24427           8.50382           7.70992  \n",
       "16796           3.63359           7.62595           5.58015  \n",
       "16797           2.92366           4.74046           4.51908  \n",
       "16798           3.35115           4.76336           0.09924  \n",
       "16799           3.60305           5.28244          -4.42748  \n",
       "\n",
       "[16800 rows x 6 columns]"
      ]
     },
     "execution_count": 430,
     "metadata": {},
     "output_type": "execute_result"
    }
   ],
   "source": [
    "data0"
   ]
  },
  {
   "cell_type": "code",
   "execution_count": 431,
   "metadata": {
    "collapsed": true
   },
   "outputs": [],
   "source": [
    "\n",
    "data0_Array = data0.values\n",
    "data1_Array = data1.values\n",
    "data2_Array = data2.values\n",
    "data3_Array = data3.values\n",
    "data4_Array = data4.values\n"
   ]
  },
  {
   "cell_type": "code",
   "execution_count": 432,
   "metadata": {
    "collapsed": true
   },
   "outputs": [],
   "source": [
    "#合併data3_Array(趴) & data4_Array(坐)\n",
    "data3_Array = np.vstack((data3_Array,data4_Array))"
   ]
  },
  {
   "cell_type": "code",
   "execution_count": null,
   "metadata": {
    "collapsed": true
   },
   "outputs": [],
   "source": []
  },
  {
   "cell_type": "code",
   "execution_count": null,
   "metadata": {
    "collapsed": true
   },
   "outputs": [],
   "source": []
  },
  {
   "cell_type": "code",
   "execution_count": 433,
   "metadata": {
    "collapsed": false
   },
   "outputs": [
    {
     "data": {
      "text/plain": [
       "(16800, 6)"
      ]
     },
     "execution_count": 433,
     "metadata": {},
     "output_type": "execute_result"
    }
   ],
   "source": [
    "#看有多少資料(row,col)\n",
    "data3_Array.shape"
   ]
  },
  {
   "cell_type": "code",
   "execution_count": 434,
   "metadata": {
    "collapsed": true,
    "scrolled": true
   },
   "outputs": [],
   "source": [
    "#將array從6個col轉成180個col   .reshape(row=總筆數除以30, col=全部)\n",
    "data0_Array = data0_Array.reshape(len(data0_Array)//30,-1)    #原來(row=34290,col=6) -> reshape(row=34290/30=1143,col=34290*6/1143=180)\n",
    "data1_Array = data1_Array.reshape(len(data1_Array)//30,-1)    # // -> 除以30後只取整數\n",
    "data2_Array = data2_Array.reshape(len(data2_Array)//30,-1)\n",
    "data3_Array = data3_Array.reshape(len(data3_Array)//30,-1)\n",
    "#data4_Array = data4_Array.reshape(412,-1)"
   ]
  },
  {
   "cell_type": "code",
   "execution_count": 435,
   "metadata": {
    "collapsed": false
   },
   "outputs": [
    {
     "data": {
      "text/plain": [
       "(560, 180)"
      ]
     },
     "execution_count": 435,
     "metadata": {},
     "output_type": "execute_result"
    }
   ],
   "source": [
    "#查看資料\n",
    "data0_Array.shape"
   ]
  },
  {
   "cell_type": "code",
   "execution_count": 436,
   "metadata": {
    "collapsed": true
   },
   "outputs": [],
   "source": [
    "#資料垂直(縱向)合併\n",
    "concatData_x = np.vstack((data0_Array,data1_Array,data2_Array,data3_Array))"
   ]
  },
  {
   "cell_type": "code",
   "execution_count": 437,
   "metadata": {
    "collapsed": false
   },
   "outputs": [
    {
     "data": {
      "text/plain": [
       "array([[  1.97998,   0.36377,  -9.646  , ...,  -0.48855,  -3.00763,\n",
       "          4.10687],\n",
       "       [  1.61865,   0.12207,  -9.6167 , ...,  -3.52672,   0.1145 ,\n",
       "          3.39695],\n",
       "       [  1.73096,   0.32715,  -9.81689, ...,  -1.47328,  -2.36641,\n",
       "          9.76336],\n",
       "       ...,\n",
       "       [  3.47412,   6.47705,  -6.74805, ...,  -3.85496,  -1.55725,\n",
       "          3.30534],\n",
       "       [  2.98096,   6.50879,  -6.76025, ..., -16.70992, -31.75573,\n",
       "         24.99237],\n",
       "       [ -4.78271,   4.09912,  -8.76709, ...,  -7.70992,   3.38931,\n",
       "          3.45038]])"
      ]
     },
     "execution_count": 437,
     "metadata": {},
     "output_type": "execute_result"
    }
   ],
   "source": [
    "#看資料樣子\n",
    "concatData_x"
   ]
  },
  {
   "cell_type": "code",
   "execution_count": 438,
   "metadata": {
    "collapsed": false
   },
   "outputs": [
    {
     "data": {
      "text/plain": [
       "(2240, 180)"
      ]
     },
     "execution_count": 438,
     "metadata": {},
     "output_type": "execute_result"
    }
   ],
   "source": [
    "#看資料樣子\n",
    "concatData_x.shape"
   ]
  },
  {
   "cell_type": "code",
   "execution_count": 439,
   "metadata": {
    "collapsed": false
   },
   "outputs": [
    {
     "data": {
      "text/plain": [
       "dtype('float64')"
      ]
     },
     "execution_count": 439,
     "metadata": {},
     "output_type": "execute_result"
    }
   ],
   "source": [
    "concatData_x.dtype"
   ]
  },
  {
   "cell_type": "code",
   "execution_count": null,
   "metadata": {
    "collapsed": true
   },
   "outputs": [],
   "source": []
  },
  {
   "cell_type": "markdown",
   "metadata": {},
   "source": [
    "# concatData_y"
   ]
  },
  {
   "cell_type": "code",
   "execution_count": 440,
   "metadata": {
    "collapsed": true
   },
   "outputs": [],
   "source": [
    "d_stand = np.zeros(shape=(len(data0_Array),1),dtype=int)   #建 762x1，值皆為 0\n",
    "\n",
    "d_walk = np.zeros(shape=(len(data1_Array),1),dtype=int)   #建 6917x1，值皆為 0\n",
    "d_walk[:,:] = 1                      #全部給值 1\n",
    "\n",
    "d_run = np.zeros(shape=(len(data2_Array),1),dtype=int)      #建 375x1，值皆為 0\n",
    "d_run[:,:] = 2                       #全部給值 2\n",
    "\n",
    "d_rest = np.zeros(shape=(len(data3_Array),1),dtype=int)     #建 6825x1，值皆為 0\n",
    "d_rest[:,:] = 3                       #全部給值 3\n",
    "\n",
    "#d_sit = np.zeros(shape=(412,1))      #建 412X1，值皆為 0\n",
    "#d_sit[:,:] = 4                       #全部給值 4\n"
   ]
  },
  {
   "cell_type": "code",
   "execution_count": 441,
   "metadata": {
    "collapsed": false
   },
   "outputs": [
    {
     "data": {
      "text/plain": [
       "array([[3],\n",
       "       [3],\n",
       "       [3],\n",
       "       [3],\n",
       "       [3],\n",
       "       [3],\n",
       "       [3],\n",
       "       [3],\n",
       "       [3],\n",
       "       [3],\n",
       "       [3],\n",
       "       [3],\n",
       "       [3],\n",
       "       [3],\n",
       "       [3],\n",
       "       [3],\n",
       "       [3],\n",
       "       [3],\n",
       "       [3],\n",
       "       [3],\n",
       "       [3],\n",
       "       [3],\n",
       "       [3],\n",
       "       [3],\n",
       "       [3],\n",
       "       [3],\n",
       "       [3],\n",
       "       [3],\n",
       "       [3],\n",
       "       [3],\n",
       "       [3],\n",
       "       [3],\n",
       "       [3],\n",
       "       [3],\n",
       "       [3],\n",
       "       [3],\n",
       "       [3],\n",
       "       [3],\n",
       "       [3],\n",
       "       [3],\n",
       "       [3],\n",
       "       [3],\n",
       "       [3],\n",
       "       [3],\n",
       "       [3],\n",
       "       [3],\n",
       "       [3],\n",
       "       [3],\n",
       "       [3],\n",
       "       [3],\n",
       "       [3],\n",
       "       [3],\n",
       "       [3],\n",
       "       [3],\n",
       "       [3],\n",
       "       [3],\n",
       "       [3],\n",
       "       [3],\n",
       "       [3],\n",
       "       [3],\n",
       "       [3],\n",
       "       [3],\n",
       "       [3],\n",
       "       [3],\n",
       "       [3],\n",
       "       [3],\n",
       "       [3],\n",
       "       [3],\n",
       "       [3],\n",
       "       [3],\n",
       "       [3],\n",
       "       [3],\n",
       "       [3],\n",
       "       [3],\n",
       "       [3],\n",
       "       [3],\n",
       "       [3],\n",
       "       [3],\n",
       "       [3],\n",
       "       [3],\n",
       "       [3],\n",
       "       [3],\n",
       "       [3],\n",
       "       [3],\n",
       "       [3],\n",
       "       [3],\n",
       "       [3],\n",
       "       [3],\n",
       "       [3],\n",
       "       [3],\n",
       "       [3],\n",
       "       [3],\n",
       "       [3],\n",
       "       [3],\n",
       "       [3],\n",
       "       [3],\n",
       "       [3],\n",
       "       [3],\n",
       "       [3],\n",
       "       [3],\n",
       "       [3],\n",
       "       [3],\n",
       "       [3],\n",
       "       [3],\n",
       "       [3],\n",
       "       [3],\n",
       "       [3],\n",
       "       [3],\n",
       "       [3],\n",
       "       [3],\n",
       "       [3],\n",
       "       [3],\n",
       "       [3],\n",
       "       [3],\n",
       "       [3],\n",
       "       [3],\n",
       "       [3],\n",
       "       [3],\n",
       "       [3],\n",
       "       [3],\n",
       "       [3],\n",
       "       [3],\n",
       "       [3],\n",
       "       [3],\n",
       "       [3],\n",
       "       [3],\n",
       "       [3],\n",
       "       [3],\n",
       "       [3],\n",
       "       [3],\n",
       "       [3],\n",
       "       [3],\n",
       "       [3],\n",
       "       [3],\n",
       "       [3],\n",
       "       [3],\n",
       "       [3],\n",
       "       [3],\n",
       "       [3],\n",
       "       [3],\n",
       "       [3],\n",
       "       [3],\n",
       "       [3],\n",
       "       [3],\n",
       "       [3],\n",
       "       [3],\n",
       "       [3],\n",
       "       [3],\n",
       "       [3],\n",
       "       [3],\n",
       "       [3],\n",
       "       [3],\n",
       "       [3],\n",
       "       [3],\n",
       "       [3],\n",
       "       [3],\n",
       "       [3],\n",
       "       [3],\n",
       "       [3],\n",
       "       [3],\n",
       "       [3],\n",
       "       [3],\n",
       "       [3],\n",
       "       [3],\n",
       "       [3],\n",
       "       [3],\n",
       "       [3],\n",
       "       [3],\n",
       "       [3],\n",
       "       [3],\n",
       "       [3],\n",
       "       [3],\n",
       "       [3],\n",
       "       [3],\n",
       "       [3],\n",
       "       [3],\n",
       "       [3],\n",
       "       [3],\n",
       "       [3],\n",
       "       [3],\n",
       "       [3],\n",
       "       [3],\n",
       "       [3],\n",
       "       [3],\n",
       "       [3],\n",
       "       [3],\n",
       "       [3],\n",
       "       [3],\n",
       "       [3],\n",
       "       [3],\n",
       "       [3],\n",
       "       [3],\n",
       "       [3],\n",
       "       [3],\n",
       "       [3],\n",
       "       [3],\n",
       "       [3],\n",
       "       [3],\n",
       "       [3],\n",
       "       [3],\n",
       "       [3],\n",
       "       [3],\n",
       "       [3],\n",
       "       [3],\n",
       "       [3],\n",
       "       [3],\n",
       "       [3],\n",
       "       [3],\n",
       "       [3],\n",
       "       [3],\n",
       "       [3],\n",
       "       [3],\n",
       "       [3],\n",
       "       [3],\n",
       "       [3],\n",
       "       [3],\n",
       "       [3],\n",
       "       [3],\n",
       "       [3],\n",
       "       [3],\n",
       "       [3],\n",
       "       [3],\n",
       "       [3],\n",
       "       [3],\n",
       "       [3],\n",
       "       [3],\n",
       "       [3],\n",
       "       [3],\n",
       "       [3],\n",
       "       [3],\n",
       "       [3],\n",
       "       [3],\n",
       "       [3],\n",
       "       [3],\n",
       "       [3],\n",
       "       [3],\n",
       "       [3],\n",
       "       [3],\n",
       "       [3],\n",
       "       [3],\n",
       "       [3],\n",
       "       [3],\n",
       "       [3],\n",
       "       [3],\n",
       "       [3],\n",
       "       [3],\n",
       "       [3],\n",
       "       [3],\n",
       "       [3],\n",
       "       [3],\n",
       "       [3],\n",
       "       [3],\n",
       "       [3],\n",
       "       [3],\n",
       "       [3],\n",
       "       [3],\n",
       "       [3],\n",
       "       [3],\n",
       "       [3],\n",
       "       [3],\n",
       "       [3],\n",
       "       [3],\n",
       "       [3],\n",
       "       [3],\n",
       "       [3],\n",
       "       [3],\n",
       "       [3],\n",
       "       [3],\n",
       "       [3],\n",
       "       [3],\n",
       "       [3],\n",
       "       [3],\n",
       "       [3],\n",
       "       [3],\n",
       "       [3],\n",
       "       [3],\n",
       "       [3],\n",
       "       [3],\n",
       "       [3],\n",
       "       [3],\n",
       "       [3],\n",
       "       [3],\n",
       "       [3],\n",
       "       [3],\n",
       "       [3],\n",
       "       [3],\n",
       "       [3],\n",
       "       [3],\n",
       "       [3],\n",
       "       [3],\n",
       "       [3],\n",
       "       [3],\n",
       "       [3],\n",
       "       [3],\n",
       "       [3],\n",
       "       [3],\n",
       "       [3],\n",
       "       [3],\n",
       "       [3],\n",
       "       [3],\n",
       "       [3],\n",
       "       [3],\n",
       "       [3],\n",
       "       [3],\n",
       "       [3],\n",
       "       [3],\n",
       "       [3],\n",
       "       [3],\n",
       "       [3],\n",
       "       [3],\n",
       "       [3],\n",
       "       [3],\n",
       "       [3],\n",
       "       [3],\n",
       "       [3],\n",
       "       [3],\n",
       "       [3],\n",
       "       [3],\n",
       "       [3],\n",
       "       [3],\n",
       "       [3],\n",
       "       [3],\n",
       "       [3],\n",
       "       [3],\n",
       "       [3],\n",
       "       [3],\n",
       "       [3],\n",
       "       [3],\n",
       "       [3],\n",
       "       [3],\n",
       "       [3],\n",
       "       [3],\n",
       "       [3],\n",
       "       [3],\n",
       "       [3],\n",
       "       [3],\n",
       "       [3],\n",
       "       [3],\n",
       "       [3],\n",
       "       [3],\n",
       "       [3],\n",
       "       [3],\n",
       "       [3],\n",
       "       [3],\n",
       "       [3],\n",
       "       [3],\n",
       "       [3],\n",
       "       [3],\n",
       "       [3],\n",
       "       [3],\n",
       "       [3],\n",
       "       [3],\n",
       "       [3],\n",
       "       [3],\n",
       "       [3],\n",
       "       [3],\n",
       "       [3],\n",
       "       [3],\n",
       "       [3],\n",
       "       [3],\n",
       "       [3],\n",
       "       [3],\n",
       "       [3],\n",
       "       [3],\n",
       "       [3],\n",
       "       [3],\n",
       "       [3],\n",
       "       [3],\n",
       "       [3],\n",
       "       [3],\n",
       "       [3],\n",
       "       [3],\n",
       "       [3],\n",
       "       [3],\n",
       "       [3],\n",
       "       [3],\n",
       "       [3],\n",
       "       [3],\n",
       "       [3],\n",
       "       [3],\n",
       "       [3],\n",
       "       [3],\n",
       "       [3],\n",
       "       [3],\n",
       "       [3],\n",
       "       [3],\n",
       "       [3],\n",
       "       [3],\n",
       "       [3],\n",
       "       [3],\n",
       "       [3],\n",
       "       [3],\n",
       "       [3],\n",
       "       [3],\n",
       "       [3],\n",
       "       [3],\n",
       "       [3],\n",
       "       [3],\n",
       "       [3],\n",
       "       [3],\n",
       "       [3],\n",
       "       [3],\n",
       "       [3],\n",
       "       [3],\n",
       "       [3],\n",
       "       [3],\n",
       "       [3],\n",
       "       [3],\n",
       "       [3],\n",
       "       [3],\n",
       "       [3],\n",
       "       [3],\n",
       "       [3],\n",
       "       [3],\n",
       "       [3],\n",
       "       [3],\n",
       "       [3],\n",
       "       [3],\n",
       "       [3],\n",
       "       [3],\n",
       "       [3],\n",
       "       [3],\n",
       "       [3],\n",
       "       [3],\n",
       "       [3],\n",
       "       [3],\n",
       "       [3],\n",
       "       [3],\n",
       "       [3],\n",
       "       [3],\n",
       "       [3],\n",
       "       [3],\n",
       "       [3],\n",
       "       [3],\n",
       "       [3],\n",
       "       [3],\n",
       "       [3],\n",
       "       [3],\n",
       "       [3],\n",
       "       [3],\n",
       "       [3],\n",
       "       [3],\n",
       "       [3],\n",
       "       [3],\n",
       "       [3],\n",
       "       [3],\n",
       "       [3],\n",
       "       [3],\n",
       "       [3],\n",
       "       [3],\n",
       "       [3],\n",
       "       [3],\n",
       "       [3],\n",
       "       [3],\n",
       "       [3],\n",
       "       [3],\n",
       "       [3],\n",
       "       [3],\n",
       "       [3],\n",
       "       [3],\n",
       "       [3],\n",
       "       [3],\n",
       "       [3],\n",
       "       [3],\n",
       "       [3],\n",
       "       [3],\n",
       "       [3],\n",
       "       [3],\n",
       "       [3],\n",
       "       [3],\n",
       "       [3],\n",
       "       [3],\n",
       "       [3],\n",
       "       [3],\n",
       "       [3],\n",
       "       [3],\n",
       "       [3],\n",
       "       [3],\n",
       "       [3],\n",
       "       [3],\n",
       "       [3],\n",
       "       [3],\n",
       "       [3],\n",
       "       [3],\n",
       "       [3],\n",
       "       [3],\n",
       "       [3],\n",
       "       [3],\n",
       "       [3],\n",
       "       [3],\n",
       "       [3],\n",
       "       [3],\n",
       "       [3],\n",
       "       [3],\n",
       "       [3],\n",
       "       [3],\n",
       "       [3],\n",
       "       [3],\n",
       "       [3],\n",
       "       [3],\n",
       "       [3],\n",
       "       [3],\n",
       "       [3],\n",
       "       [3],\n",
       "       [3],\n",
       "       [3],\n",
       "       [3],\n",
       "       [3],\n",
       "       [3],\n",
       "       [3],\n",
       "       [3],\n",
       "       [3],\n",
       "       [3],\n",
       "       [3],\n",
       "       [3],\n",
       "       [3],\n",
       "       [3],\n",
       "       [3],\n",
       "       [3],\n",
       "       [3],\n",
       "       [3],\n",
       "       [3],\n",
       "       [3],\n",
       "       [3],\n",
       "       [3],\n",
       "       [3],\n",
       "       [3],\n",
       "       [3],\n",
       "       [3],\n",
       "       [3],\n",
       "       [3],\n",
       "       [3],\n",
       "       [3],\n",
       "       [3],\n",
       "       [3],\n",
       "       [3],\n",
       "       [3],\n",
       "       [3],\n",
       "       [3],\n",
       "       [3],\n",
       "       [3],\n",
       "       [3],\n",
       "       [3],\n",
       "       [3],\n",
       "       [3],\n",
       "       [3],\n",
       "       [3],\n",
       "       [3],\n",
       "       [3],\n",
       "       [3],\n",
       "       [3],\n",
       "       [3],\n",
       "       [3],\n",
       "       [3],\n",
       "       [3],\n",
       "       [3],\n",
       "       [3],\n",
       "       [3],\n",
       "       [3],\n",
       "       [3]])"
      ]
     },
     "execution_count": 441,
     "metadata": {},
     "output_type": "execute_result"
    }
   ],
   "source": [
    "#看資料樣子\n",
    "#d_stand\n",
    "#d_walk\n",
    "#d_run\n",
    "d_rest ## => d_lie + d_sit"
   ]
  },
  {
   "cell_type": "code",
   "execution_count": 442,
   "metadata": {
    "collapsed": false
   },
   "outputs": [
    {
     "data": {
      "text/plain": [
       "(560, 1)"
      ]
     },
     "execution_count": 442,
     "metadata": {},
     "output_type": "execute_result"
    }
   ],
   "source": [
    "#看資料樣子\n",
    "d_rest.shape"
   ]
  },
  {
   "cell_type": "code",
   "execution_count": 443,
   "metadata": {
    "collapsed": true
   },
   "outputs": [],
   "source": [
    "#資料垂直(縱向)合併\n",
    "concatData_y = np.vstack((d_stand,d_walk,d_run,d_rest))"
   ]
  },
  {
   "cell_type": "code",
   "execution_count": 444,
   "metadata": {
    "collapsed": false
   },
   "outputs": [
    {
     "data": {
      "text/plain": [
       "array([[0],\n",
       "       [0],\n",
       "       [0],\n",
       "       ...,\n",
       "       [3],\n",
       "       [3],\n",
       "       [3]])"
      ]
     },
     "execution_count": 444,
     "metadata": {},
     "output_type": "execute_result"
    }
   ],
   "source": [
    "#看資料樣子\n",
    "concatData_y"
   ]
  },
  {
   "cell_type": "code",
   "execution_count": 445,
   "metadata": {
    "collapsed": false
   },
   "outputs": [
    {
     "data": {
      "text/plain": [
       "(2240, 1)"
      ]
     },
     "execution_count": 445,
     "metadata": {},
     "output_type": "execute_result"
    }
   ],
   "source": [
    "#看資料樣子\n",
    "concatData_y.shape"
   ]
  },
  {
   "cell_type": "code",
   "execution_count": 446,
   "metadata": {
    "collapsed": true
   },
   "outputs": [],
   "source": [
    "#把y做 OneHot encoding\n",
    "concatData_y = np_utils.to_categorical(concatData_y)"
   ]
  },
  {
   "cell_type": "code",
   "execution_count": 447,
   "metadata": {
    "collapsed": false
   },
   "outputs": [
    {
     "data": {
      "text/plain": [
       "array([[1., 0., 0., 0.],\n",
       "       [1., 0., 0., 0.],\n",
       "       [1., 0., 0., 0.],\n",
       "       ...,\n",
       "       [0., 0., 0., 1.],\n",
       "       [0., 0., 0., 1.],\n",
       "       [0., 0., 0., 1.]], dtype=float32)"
      ]
     },
     "execution_count": 447,
     "metadata": {},
     "output_type": "execute_result"
    }
   ],
   "source": [
    "#看資料樣子\n",
    "concatData_y"
   ]
  },
  {
   "cell_type": "code",
   "execution_count": 448,
   "metadata": {
    "collapsed": false
   },
   "outputs": [
    {
     "data": {
      "text/plain": [
       "(2240, 4)"
      ]
     },
     "execution_count": 448,
     "metadata": {},
     "output_type": "execute_result"
    }
   ],
   "source": [
    "#看資料樣子\n",
    "concatData_y.shape"
   ]
  },
  {
   "cell_type": "code",
   "execution_count": null,
   "metadata": {
    "collapsed": true
   },
   "outputs": [],
   "source": []
  },
  {
   "cell_type": "markdown",
   "metadata": {},
   "source": [
    "# concatData_x和concatData_y合併 => concatData"
   ]
  },
  {
   "cell_type": "code",
   "execution_count": 449,
   "metadata": {
    "collapsed": true
   },
   "outputs": [],
   "source": [
    "#橫向(水平線)合併\n",
    "concatData = np.hstack((concatData_x,concatData_y)) "
   ]
  },
  {
   "cell_type": "code",
   "execution_count": 450,
   "metadata": {
    "collapsed": false
   },
   "outputs": [
    {
     "data": {
      "text/plain": [
       "(2240, 184)"
      ]
     },
     "execution_count": 450,
     "metadata": {},
     "output_type": "execute_result"
    }
   ],
   "source": [
    "#看資料樣子\n",
    "concatData.shape"
   ]
  },
  {
   "cell_type": "code",
   "execution_count": 451,
   "metadata": {
    "collapsed": false,
    "scrolled": true
   },
   "outputs": [
    {
     "data": {
      "text/plain": [
       "array([[  1.97998,   0.36377,  -9.646  ,   0.80153,  -2.12214,   2.10687,\n",
       "          1.90674,   0.3125 ,  -9.68994,  -0.01527,  -2.41985,   1.54198,\n",
       "          1.79443,   0.43701,  -9.729  ,   0.55725,  -1.03053,   1.19084,\n",
       "          2.00439,   0.38574,  -9.67529,   0.06107,  -0.51145,   0.69466,\n",
       "          1.97998,   0.44678,  -9.80225,  -0.09924,  -0.53435,   0.12977,\n",
       "          1.99707,   0.46143,  -9.70215,   0.67939,  -1.25954,   0.31298,\n",
       "          1.94336,   0.38086,  -9.83643,   1.39695,  -0.98473,   0.8855 ,\n",
       "          1.92383,   0.36865,  -9.58252,   1.66412,  -2.09924,   0.05344,\n",
       "          1.94092,   0.39551,  -9.6167 ,   1.49618,  -2.77863,   1.94656,\n",
       "          1.79443,   0.4126 ,  -9.96338,   2.94656,  -3.41985,   0.80153,\n",
       "          1.88232,   0.29541,  -9.82422,   2.79389,  -2.27481,   0.20611,\n",
       "          1.86035,   0.26611,  -9.78271,   2.74046,  -1.41985,   0.75573,\n",
       "          1.99707,   0.01221,  -9.67041,   0.80916,  -2.54962,   1.22137,\n",
       "          1.88232,   0.02197,  -9.82666,  -1.78626,  -3.47328,   2.65649,\n",
       "          1.93604,   0.23193, -10.06592,  -2.18321,  -3.36641,   4.0916 ,\n",
       "          1.88721,   0.14893,  -9.77783,  -1.45802,  -3.70229,   3.47328,\n",
       "          1.80908,   0.03662,  -9.96338,  -2.45802,  -1.9542 ,   2.98473,\n",
       "          1.84814,   0.07568,  -9.8291 ,  -3.69466,  -1.0229 ,   3.1145 ,\n",
       "          1.84814,   0.     ,  -9.57275,  -3.78626,  -1.25954,   3.75573,\n",
       "          1.8335 ,   0.19775,  -9.646  ,  -4.21374,  -1.51908,   3.87786,\n",
       "          1.84326,   0.23682,  -9.77051,  -4.0916 ,  -2.29008,   4.09924,\n",
       "          1.93359,   0.27344,  -9.81201,  -3.65649,  -1.92366,   4.0687 ,\n",
       "          1.89941,   0.18799,  -9.76318,  -2.43511,  -3.62595,   4.06107,\n",
       "          1.75049,   0.20264,  -9.71436,  -2.74046,  -3.85496,   4.51908,\n",
       "          1.67236,   0.27832,  -9.65332,  -3.35115,  -2.53435,   4.96947,\n",
       "          1.85547,   0.21484,  -9.87061,  -2.45038,  -2.70229,   4.75573,\n",
       "          1.70166,   0.19287,  -9.84131,  -2.29771,  -0.56489,   4.12214,\n",
       "          1.76514,   0.22705,  -9.74609,  -2.87786,   1.89313,   4.54962,\n",
       "          1.83594,   0.18066,  -9.72412,  -2.70229,  -2.83969,   4.70229,\n",
       "          1.84326,   0.28564,  -9.89014,  -0.48855,  -3.00763,   4.10687,\n",
       "          1.     ,   0.     ,   0.     ,   0.     ]])"
      ]
     },
     "execution_count": 451,
     "metadata": {},
     "output_type": "execute_result"
    }
   ],
   "source": [
    "#看資料樣子\n",
    "concatData[:1]"
   ]
  },
  {
   "cell_type": "code",
   "execution_count": null,
   "metadata": {
    "collapsed": true
   },
   "outputs": [],
   "source": []
  },
  {
   "cell_type": "code",
   "execution_count": null,
   "metadata": {
    "collapsed": true
   },
   "outputs": [],
   "source": []
  },
  {
   "cell_type": "markdown",
   "metadata": {},
   "source": [
    "# concatData隨機分成80%訓練資料20%測試資料"
   ]
  },
  {
   "cell_type": "code",
   "execution_count": 452,
   "metadata": {
    "collapsed": true
   },
   "outputs": [],
   "source": [
    "#隨機分成80%訓練20%測試\n",
    "msk = np.random.rand(len(concatData)) < 0.8\n",
    "train_df = concatData[msk]\n",
    "test_df = concatData[~msk]"
   ]
  },
  {
   "cell_type": "code",
   "execution_count": 453,
   "metadata": {
    "collapsed": false
   },
   "outputs": [
    {
     "name": "stdout",
     "output_type": "stream",
     "text": [
      "total: 2240 train: 1779 test: 461\n"
     ]
    }
   ],
   "source": [
    "#顯示訓練和測試筆數\n",
    "print('total:',len(concatData),\n",
    "      'train:',len(train_df),\n",
    "     'test:',len(test_df))"
   ]
  },
  {
   "cell_type": "code",
   "execution_count": 454,
   "metadata": {
    "collapsed": false
   },
   "outputs": [
    {
     "data": {
      "text/plain": [
       "array([[  1.61865,   0.12207,  -9.6167 , ...,   0.     ,   0.     ,\n",
       "          0.     ],\n",
       "       [  1.39893,   0.14648,  -9.71924, ...,   0.     ,   0.     ,\n",
       "          0.     ],\n",
       "       [  0.67627,   0.30762, -10.59082, ...,   0.     ,   0.     ,\n",
       "          0.     ],\n",
       "       ...,\n",
       "       [ -1.74072,   4.36035,  -6.9043 , ...,   0.     ,   0.     ,\n",
       "          1.     ],\n",
       "       [  3.47412,   6.47705,  -6.74805, ...,   0.     ,   0.     ,\n",
       "          1.     ],\n",
       "       [  2.98096,   6.50879,  -6.76025, ...,   0.     ,   0.     ,\n",
       "          1.     ]])"
      ]
     },
     "execution_count": 454,
     "metadata": {},
     "output_type": "execute_result"
    }
   ],
   "source": [
    "#看資料樣子\n",
    "test_df"
   ]
  },
  {
   "cell_type": "code",
   "execution_count": 455,
   "metadata": {
    "collapsed": false
   },
   "outputs": [
    {
     "data": {
      "text/plain": [
       "(461, 184)"
      ]
     },
     "execution_count": 455,
     "metadata": {},
     "output_type": "execute_result"
    }
   ],
   "source": [
    "#看資料樣子\n",
    "test_df.shape"
   ]
  },
  {
   "cell_type": "code",
   "execution_count": null,
   "metadata": {
    "collapsed": true
   },
   "outputs": [],
   "source": []
  },
  {
   "cell_type": "code",
   "execution_count": null,
   "metadata": {
    "collapsed": true
   },
   "outputs": [],
   "source": []
  },
  {
   "cell_type": "markdown",
   "metadata": {},
   "source": [
    "# 建立PreprocessData函數"
   ]
  },
  {
   "cell_type": "code",
   "execution_count": 456,
   "metadata": {
    "collapsed": true
   },
   "outputs": [],
   "source": [
    "#建立PreprocessData函數\n",
    "def PreprocessData(concatData):\n",
    "    #concatData_xArray = concatData_x.values\n",
    "    #concatData_yArray = concatData_y.values    \n",
    "    Label = concatData[:,180:]                                               #二維資料\n",
    "    Features = concatData[:,:180]                                            #二維資料\n",
    "    \n",
    "    #dim2_concatData_x = Features.reshape((len(Features),1*180))        #三維轉二維 \n",
    "    #Features = dim2_concatData_x\n",
    "    \n",
    "    minmax_scale = preprocessing.MinMaxScaler(feature_range=(0, 1))    #MinMaxScaler只接受二維資料\n",
    "    scaledFeatures = minmax_scale.fit_transform(Features)\n",
    "    \n",
    "    return scaledFeatures,Label"
   ]
  },
  {
   "cell_type": "code",
   "execution_count": 457,
   "metadata": {
    "collapsed": true
   },
   "outputs": [],
   "source": [
    "#訓練資料和測試資料進行預處理\n",
    "train_Features,train_Label=PreprocessData(train_df)\n",
    "test_Features,test_Label=PreprocessData(test_df)"
   ]
  },
  {
   "cell_type": "markdown",
   "metadata": {},
   "source": [
    "# 建立模型"
   ]
  },
  {
   "cell_type": "code",
   "execution_count": 575,
   "metadata": {
    "collapsed": true
   },
   "outputs": [],
   "source": [
    "from keras.models import Sequential\n",
    "from keras.layers import Dense,Dropout\n",
    "from keras.layers import Dropout"
   ]
  },
  {
   "cell_type": "code",
   "execution_count": 742,
   "metadata": {
    "collapsed": true
   },
   "outputs": [],
   "source": [
    "model = Sequential()"
   ]
  },
  {
   "cell_type": "code",
   "execution_count": 743,
   "metadata": {
    "collapsed": true
   },
   "outputs": [],
   "source": [
    "#建立 輸入層、隱藏層 1\n",
    "model.add(Dense(units=1000,                     #隱藏層神經元個數                          #1000\n",
    "               input_dim=180,                 #輸入層神經元個數\n",
    "               kernel_initializer='normal',  #初始化weight(權重)和bias(偏差)的方法       #normal常態分布  #uniform平均分布\n",
    "               activation='relu'))            #激活函數"
   ]
  },
  {
   "cell_type": "code",
   "execution_count": 744,
   "metadata": {
    "collapsed": true
   },
   "outputs": [],
   "source": [
    "#每次訓練迭代，會隨機在隱藏層中放棄50%神經元 -> 避免overfitting\n",
    "model.add(Dropout(0.2))"
   ]
  },
  {
   "cell_type": "code",
   "execution_count": 745,
   "metadata": {
    "collapsed": true
   },
   "outputs": [],
   "source": [
    "#建立 隱藏層 2\n",
    "model.add(Dense(units=1000,                     #隱藏層神經元個數                           #1000\n",
    "               kernel_initializer='normal',  #初始化weight(權重)和bias(偏差)的方法       #normal常態分布  #uniform平均分布\n",
    "               activation='relu'))            #激活函數"
   ]
  },
  {
   "cell_type": "code",
   "execution_count": 746,
   "metadata": {
    "collapsed": true
   },
   "outputs": [],
   "source": [
    "#每次訓練迭代，會隨機在隱藏層中放棄50%神經元 -> 避免overfitting\n",
    "model.add(Dropout(0.2))"
   ]
  },
  {
   "cell_type": "code",
   "execution_count": 747,
   "metadata": {
    "collapsed": true
   },
   "outputs": [],
   "source": [
    "#建立 輸出層\n",
    "model.add(Dense(units=4,                      #輸出層神經元個數 (輸出4個label)\n",
    "               kernel_initializer='normal',  #初始化weight(權重)和bias(偏差)的方法       #normal\n",
    "               activation='softmax'))         #激活函數\n",
    "                          # sigmoid"
   ]
  },
  {
   "cell_type": "markdown",
   "metadata": {},
   "source": [
    "# 開始訓練"
   ]
  },
  {
   "cell_type": "code",
   "execution_count": 748,
   "metadata": {
    "collapsed": true
   },
   "outputs": [],
   "source": [
    "#設定訓練模型\n",
    "model.compile(loss='binary_crossentropy',   #損失函數loss function -> 訓練效果       #categorical_crossentropy\n",
    "             optimizer='adam',              #最優化方法 -> 訓練更快收斂、提高準確率\n",
    "             metrics=['accuracy'])          #評估模型方式 -> 算準確率"
   ]
  },
  {
   "cell_type": "code",
   "execution_count": 749,
   "metadata": {
    "collapsed": false
   },
   "outputs": [
    {
     "name": "stdout",
     "output_type": "stream",
     "text": [
      "Train on 1423 samples, validate on 356 samples\n",
      "Epoch 1/100\n",
      " - 2s - loss: 0.4255 - acc: 0.8076 - val_loss: 1.0373 - val_acc: 0.6966\n",
      "Epoch 2/100\n",
      " - 1s - loss: 0.2963 - acc: 0.8614 - val_loss: 0.9372 - val_acc: 0.6713\n",
      "Epoch 3/100\n",
      " - 1s - loss: 0.2708 - acc: 0.8825 - val_loss: 1.2918 - val_acc: 0.5822\n",
      "Epoch 4/100\n",
      " - 1s - loss: 0.2709 - acc: 0.8811 - val_loss: 1.1377 - val_acc: 0.5822\n",
      "Epoch 5/100\n",
      " - 1s - loss: 0.2422 - acc: 0.8981 - val_loss: 1.1383 - val_acc: 0.5239\n",
      "Epoch 6/100\n",
      " - 1s - loss: 0.2451 - acc: 0.8927 - val_loss: 1.2526 - val_acc: 0.5892\n",
      "Epoch 7/100\n",
      " - 1s - loss: 0.2413 - acc: 0.8920 - val_loss: 0.9063 - val_acc: 0.6671\n",
      "Epoch 8/100\n",
      " - 1s - loss: 0.2438 - acc: 0.8939 - val_loss: 1.4586 - val_acc: 0.5098\n",
      "Epoch 9/100\n",
      " - 1s - loss: 0.2429 - acc: 0.8874 - val_loss: 1.2875 - val_acc: 0.5836\n",
      "Epoch 10/100\n",
      " - 1s - loss: 0.2636 - acc: 0.8758 - val_loss: 1.0593 - val_acc: 0.6699\n",
      "Epoch 11/100\n",
      " - 1s - loss: 0.2374 - acc: 0.8956 - val_loss: 1.2901 - val_acc: 0.5934\n",
      "Epoch 12/100\n",
      " - 1s - loss: 0.2347 - acc: 0.8925 - val_loss: 0.9747 - val_acc: 0.6987\n",
      "Epoch 13/100\n",
      " - 1s - loss: 0.2231 - acc: 0.9039 - val_loss: 1.1193 - val_acc: 0.6159\n",
      "Epoch 14/100\n",
      " - 1s - loss: 0.2210 - acc: 0.9150 - val_loss: 1.2942 - val_acc: 0.5871\n",
      "Epoch 15/100\n",
      " - 1s - loss: 0.2463 - acc: 0.8920 - val_loss: 0.9569 - val_acc: 0.6699\n",
      "Epoch 16/100\n",
      " - 1s - loss: 0.2418 - acc: 0.9006 - val_loss: 1.0855 - val_acc: 0.6650\n",
      "Epoch 17/100\n",
      " - 1s - loss: 0.2189 - acc: 0.9039 - val_loss: 1.3495 - val_acc: 0.6454\n",
      "Epoch 18/100\n",
      " - 1s - loss: 0.2216 - acc: 0.9035 - val_loss: 0.9198 - val_acc: 0.6706\n",
      "Epoch 19/100\n",
      " - 1s - loss: 0.2086 - acc: 0.9167 - val_loss: 1.4567 - val_acc: 0.5730\n",
      "Epoch 20/100\n",
      " - 1s - loss: 0.2105 - acc: 0.9115 - val_loss: 1.1771 - val_acc: 0.5597\n",
      "Epoch 21/100\n",
      " - 1s - loss: 0.2148 - acc: 0.9169 - val_loss: 1.2735 - val_acc: 0.5400\n",
      "Epoch 22/100\n",
      " - 1s - loss: 0.2326 - acc: 0.8914 - val_loss: 1.1048 - val_acc: 0.5372\n",
      "Epoch 23/100\n",
      " - 1s - loss: 0.2138 - acc: 0.9100 - val_loss: 1.1801 - val_acc: 0.6524\n",
      "Epoch 24/100\n",
      " - 1s - loss: 0.2054 - acc: 0.9190 - val_loss: 0.8619 - val_acc: 0.6650\n",
      "Epoch 25/100\n",
      " - 1s - loss: 0.1906 - acc: 0.9283 - val_loss: 0.9625 - val_acc: 0.7774\n",
      "Epoch 26/100\n",
      " - 1s - loss: 0.1809 - acc: 0.9334 - val_loss: 1.0054 - val_acc: 0.8132\n",
      "Epoch 27/100\n",
      " - 1s - loss: 0.1739 - acc: 0.9369 - val_loss: 1.0776 - val_acc: 0.6791\n",
      "Epoch 28/100\n",
      " - 1s - loss: 0.1664 - acc: 0.9378 - val_loss: 0.9597 - val_acc: 0.6545\n",
      "Epoch 29/100\n",
      " - 1s - loss: 0.1748 - acc: 0.9366 - val_loss: 1.1159 - val_acc: 0.6152\n",
      "Epoch 30/100\n",
      " - 1s - loss: 0.2068 - acc: 0.9157 - val_loss: 1.5432 - val_acc: 0.5723\n",
      "Epoch 31/100\n",
      " - 1s - loss: 0.2010 - acc: 0.9155 - val_loss: 1.0869 - val_acc: 0.6938\n",
      "Epoch 32/100\n",
      " - 1s - loss: 0.1628 - acc: 0.9455 - val_loss: 0.9483 - val_acc: 0.6664\n",
      "Epoch 33/100\n",
      " - 1s - loss: 0.1594 - acc: 0.9459 - val_loss: 0.9882 - val_acc: 0.6657\n",
      "Epoch 34/100\n",
      " - 1s - loss: 0.1523 - acc: 0.9422 - val_loss: 0.9251 - val_acc: 0.6615\n",
      "Epoch 35/100\n",
      " - 1s - loss: 0.1816 - acc: 0.9273 - val_loss: 1.1751 - val_acc: 0.6503\n",
      "Epoch 36/100\n",
      " - 1s - loss: 0.1877 - acc: 0.9257 - val_loss: 1.0535 - val_acc: 0.6531\n",
      "Epoch 37/100\n",
      " - 1s - loss: 0.1948 - acc: 0.9174 - val_loss: 1.2226 - val_acc: 0.6678\n",
      "Epoch 38/100\n",
      " - 1s - loss: 0.1865 - acc: 0.9278 - val_loss: 0.9549 - val_acc: 0.6433\n",
      "Epoch 39/100\n",
      " - 1s - loss: 0.1793 - acc: 0.9266 - val_loss: 0.8908 - val_acc: 0.6636\n",
      "Epoch 40/100\n",
      " - 1s - loss: 0.1429 - acc: 0.9540 - val_loss: 0.9740 - val_acc: 0.6517\n",
      "Epoch 41/100\n",
      " - 1s - loss: 0.1423 - acc: 0.9501 - val_loss: 0.8857 - val_acc: 0.6552\n",
      "Epoch 42/100\n",
      " - 1s - loss: 0.1881 - acc: 0.9199 - val_loss: 0.6009 - val_acc: 0.8279\n",
      "Epoch 43/100\n",
      " - 1s - loss: 0.1714 - acc: 0.9338 - val_loss: 1.1090 - val_acc: 0.6440\n",
      "Epoch 44/100\n",
      " - 1s - loss: 0.1799 - acc: 0.9269 - val_loss: 0.8848 - val_acc: 0.6608\n",
      "Epoch 45/100\n",
      " - 1s - loss: 0.1934 - acc: 0.9162 - val_loss: 0.9129 - val_acc: 0.6671\n",
      "Epoch 46/100\n",
      " - 1s - loss: 0.1589 - acc: 0.9362 - val_loss: 0.6372 - val_acc: 0.6671\n",
      "Epoch 47/100\n",
      " - 1s - loss: 0.1433 - acc: 0.9455 - val_loss: 0.5559 - val_acc: 0.8272\n",
      "Epoch 48/100\n",
      " - 1s - loss: 0.1412 - acc: 0.9476 - val_loss: 0.5727 - val_acc: 0.6566\n",
      "Epoch 49/100\n",
      " - 1s - loss: 0.1311 - acc: 0.9499 - val_loss: 0.7163 - val_acc: 0.6573\n",
      "Epoch 50/100\n",
      " - 1s - loss: 0.1467 - acc: 0.9433 - val_loss: 0.5241 - val_acc: 0.8104\n",
      "Epoch 51/100\n",
      " - 1s - loss: 0.1409 - acc: 0.9473 - val_loss: 0.7778 - val_acc: 0.6496\n",
      "Epoch 52/100\n",
      " - 1s - loss: 0.1253 - acc: 0.9566 - val_loss: 0.5191 - val_acc: 0.6447\n",
      "Epoch 53/100\n",
      " - 1s - loss: 0.1266 - acc: 0.9505 - val_loss: 0.6054 - val_acc: 0.6510\n",
      "Epoch 54/100\n",
      " - 1s - loss: 0.1231 - acc: 0.9540 - val_loss: 0.2714 - val_acc: 0.9691\n",
      "Epoch 55/100\n",
      " - 1s - loss: 0.1220 - acc: 0.9533 - val_loss: 0.3556 - val_acc: 0.8230\n",
      "Epoch 56/100\n",
      " - 1s - loss: 0.1191 - acc: 0.9538 - val_loss: 0.3754 - val_acc: 0.8216\n",
      "Epoch 57/100\n",
      " - 1s - loss: 0.1202 - acc: 0.9557 - val_loss: 0.4232 - val_acc: 0.8034\n",
      "Epoch 58/100\n",
      " - 1s - loss: 0.1332 - acc: 0.9501 - val_loss: 0.3020 - val_acc: 0.9586\n",
      "Epoch 59/100\n",
      " - 1s - loss: 0.1319 - acc: 0.9512 - val_loss: 0.4528 - val_acc: 0.8006\n",
      "Epoch 60/100\n",
      " - 1s - loss: 0.1172 - acc: 0.9571 - val_loss: 0.5865 - val_acc: 0.6482\n",
      "Epoch 61/100\n",
      " - 1s - loss: 0.1141 - acc: 0.9573 - val_loss: 0.5232 - val_acc: 0.6510\n",
      "Epoch 62/100\n",
      " - 1s - loss: 0.1114 - acc: 0.9578 - val_loss: 0.4406 - val_acc: 0.6496\n",
      "Epoch 63/100\n",
      " - 1s - loss: 0.1089 - acc: 0.9589 - val_loss: 0.3250 - val_acc: 0.7746\n",
      "Epoch 64/100\n",
      " - 1s - loss: 0.1131 - acc: 0.9559 - val_loss: 0.3274 - val_acc: 0.8083\n",
      "Epoch 65/100\n",
      " - 1s - loss: 0.1041 - acc: 0.9608 - val_loss: 0.3240 - val_acc: 0.6545\n",
      "Epoch 66/100\n",
      " - 1s - loss: 0.1108 - acc: 0.9580 - val_loss: 0.2490 - val_acc: 0.9712\n",
      "Epoch 67/100\n",
      " - 1s - loss: 0.0988 - acc: 0.9645 - val_loss: 0.2006 - val_acc: 0.9719\n",
      "Epoch 68/100\n",
      " - 1s - loss: 0.1020 - acc: 0.9585 - val_loss: 0.1475 - val_acc: 0.9740\n",
      "Epoch 69/100\n",
      " - 1s - loss: 0.0999 - acc: 0.9645 - val_loss: 0.3232 - val_acc: 0.9635\n",
      "Epoch 70/100\n",
      " - 1s - loss: 0.0933 - acc: 0.9656 - val_loss: 0.4131 - val_acc: 0.6447\n",
      "Epoch 71/100\n",
      " - 1s - loss: 0.0772 - acc: 0.9747 - val_loss: 0.2928 - val_acc: 0.8617\n",
      "Epoch 72/100\n",
      " - 1s - loss: 0.0931 - acc: 0.9680 - val_loss: 0.3085 - val_acc: 0.9684\n",
      "Epoch 73/100\n",
      " - 1s - loss: 0.0863 - acc: 0.9677 - val_loss: 0.4740 - val_acc: 0.6489\n",
      "Epoch 74/100\n",
      " - 1s - loss: 0.1005 - acc: 0.9640 - val_loss: 0.2496 - val_acc: 0.9698\n",
      "Epoch 75/100\n",
      " - 1s - loss: 0.1057 - acc: 0.9612 - val_loss: 0.2008 - val_acc: 0.9698\n",
      "Epoch 76/100\n",
      " - 1s - loss: 0.0876 - acc: 0.9701 - val_loss: 0.1806 - val_acc: 0.9712\n",
      "Epoch 77/100\n",
      " - 1s - loss: 0.0836 - acc: 0.9731 - val_loss: 0.2706 - val_acc: 0.9698\n",
      "Epoch 78/100\n",
      " - 1s - loss: 0.0740 - acc: 0.9742 - val_loss: 0.1828 - val_acc: 0.9698\n",
      "Epoch 79/100\n",
      " - 1s - loss: 0.0893 - acc: 0.9661 - val_loss: 0.4211 - val_acc: 0.6468\n",
      "Epoch 80/100\n",
      " - 1s - loss: 0.1010 - acc: 0.9626 - val_loss: 0.4005 - val_acc: 0.8034\n",
      "Epoch 81/100\n",
      " - 1s - loss: 0.0973 - acc: 0.9640 - val_loss: 0.2884 - val_acc: 0.9691\n",
      "Epoch 82/100\n",
      " - 1s - loss: 0.0875 - acc: 0.9666 - val_loss: 0.2837 - val_acc: 0.9691\n",
      "Epoch 83/100\n",
      " - 1s - loss: 0.0880 - acc: 0.9656 - val_loss: 0.2316 - val_acc: 0.9670\n",
      "Epoch 84/100\n",
      " - 1s - loss: 0.0858 - acc: 0.9677 - val_loss: 0.2487 - val_acc: 0.9698\n",
      "Epoch 85/100\n",
      " - 1s - loss: 0.0760 - acc: 0.9708 - val_loss: 0.2417 - val_acc: 0.9677\n",
      "Epoch 86/100\n",
      " - 1s - loss: 0.0676 - acc: 0.9768 - val_loss: 0.3990 - val_acc: 0.6678\n",
      "Epoch 87/100\n",
      " - 1s - loss: 0.0877 - acc: 0.9678 - val_loss: 0.1685 - val_acc: 0.9698\n",
      "Epoch 88/100\n",
      " - 1s - loss: 0.0773 - acc: 0.9745 - val_loss: 0.2768 - val_acc: 0.9698\n",
      "Epoch 89/100\n",
      " - 1s - loss: 0.0646 - acc: 0.9772 - val_loss: 0.4482 - val_acc: 0.6685\n",
      "Epoch 90/100\n",
      " - 1s - loss: 0.0956 - acc: 0.9591 - val_loss: 0.3100 - val_acc: 0.9698\n",
      "Epoch 91/100\n",
      " - 1s - loss: 0.1116 - acc: 0.9526 - val_loss: 0.2708 - val_acc: 0.9691\n",
      "Epoch 92/100\n",
      " - 1s - loss: 0.0842 - acc: 0.9673 - val_loss: 0.1932 - val_acc: 0.9698\n",
      "Epoch 93/100\n",
      " - 1s - loss: 0.0816 - acc: 0.9707 - val_loss: 0.4592 - val_acc: 0.6454\n",
      "Epoch 94/100\n",
      " - 0s - loss: 0.0810 - acc: 0.9700 - val_loss: 0.3001 - val_acc: 0.9656\n",
      "Epoch 95/100\n",
      " - 1s - loss: 0.0776 - acc: 0.9703 - val_loss: 0.2650 - val_acc: 0.9677\n",
      "Epoch 96/100\n",
      " - 1s - loss: 0.0735 - acc: 0.9719 - val_loss: 0.2178 - val_acc: 0.9670\n",
      "Epoch 97/100\n",
      " - 1s - loss: 0.0700 - acc: 0.9747 - val_loss: 0.1846 - val_acc: 0.9705\n",
      "Epoch 98/100\n",
      " - 0s - loss: 0.0670 - acc: 0.9747 - val_loss: 0.3177 - val_acc: 0.9677\n",
      "Epoch 99/100\n",
      " - 1s - loss: 0.0779 - acc: 0.9722 - val_loss: 0.3891 - val_acc: 0.6531\n",
      "Epoch 100/100\n",
      " - 1s - loss: 0.0802 - acc: 0.9693 - val_loss: 0.2389 - val_acc: 0.9677\n"
     ]
    }
   ],
   "source": [
    "#執行訓練程式碼\n",
    "train_history = model.fit(x=train_Features,      #輸入訓練資料參數 -> 特徵值 (features)\n",
    "                         y=train_Label,          #輸入訓練資料參數 -> 真實值 (label)\n",
    "                         validation_split=0.2,   #Keras自動將資料分成 -> 90%作為訓練資料、10%作為驗證資料    #0.2\n",
    "                         epochs=100,              #訓練週期 -> 執行次數                                     #10\n",
    "                         batch_size=50,         #每一批次 資料筆數                                        #200\n",
    "                         verbose=2)              #顯示訓練過程"
   ]
  },
  {
   "cell_type": "code",
   "execution_count": 750,
   "metadata": {
    "collapsed": true
   },
   "outputs": [],
   "source": [
    "#建立show_train_history顯示訓練過程\n",
    "import matplotlib.pyplot as plt  \n",
    "def show_train_history(train_history, train, validation):  #(訓練過程產生的train_history,訓練資料的執行結果,驗證資料的執行結果)\n",
    "    plt.plot(train_history.history[train])  \n",
    "    plt.plot(train_history.history[validation])  \n",
    "    plt.title('Train History')   \n",
    "    plt.ylabel(train)  \n",
    "    plt.xlabel('Epoch')  \n",
    "    plt.legend(['train', 'validation'], loc='upper left')  \n",
    "    plt.show()  "
   ]
  },
  {
   "cell_type": "code",
   "execution_count": 751,
   "metadata": {
    "collapsed": false
   },
   "outputs": [
    {
     "data": {
      "image/png": "[encoded data removed]",
      "text/plain": [
       "<matplotlib.figure.Figure at 0x244bee73208>"
      ]
     },
     "metadata": {},
     "output_type": "display_data"
    }
   ],
   "source": [
    "#畫出準確率執行結果              #訓練準確率 #驗證準確率\n",
    "show_train_history(train_history, 'acc', 'val_acc')  "
   ]
  },
  {
   "cell_type": "code",
   "execution_count": 752,
   "metadata": {
    "collapsed": false
   },
   "outputs": [
    {
     "data": {
      "image/png": "[encoded data removed]",
      "text/plain": [
       "<matplotlib.figure.Figure at 0x244bee80908>"
      ]
     },
     "metadata": {},
     "output_type": "display_data"
    }
   ],
   "source": [
    "#畫出loss誤差執行結果             #訓練的誤差 #驗證的誤差\n",
    "show_train_history(train_history, 'loss', 'val_loss')  "
   ]
  },
  {
   "cell_type": "markdown",
   "metadata": {},
   "source": [
    "# 評估模型準確率"
   ]
  },
  {
   "cell_type": "code",
   "execution_count": 753,
   "metadata": {
    "collapsed": false
   },
   "outputs": [
    {
     "name": "stdout",
     "output_type": "stream",
     "text": [
      "461/461 [==============================] - 0s 85us/step\n"
     ]
    }
   ],
   "source": [
    "#評估模型準確率\n",
    "scores = model.evaluate(x=test_Features,    #測試資料 的 特徵值 (features)\n",
    "                       y=test_Label)        #測試資料 的 真實值 (label)"
   ]
  },
  {
   "cell_type": "code",
   "execution_count": 754,
   "metadata": {
    "collapsed": false
   },
   "outputs": [
    {
     "data": {
      "text/plain": [
       "0.9696312369596932"
      ]
     },
     "execution_count": 754,
     "metadata": {},
     "output_type": "execute_result"
    }
   ],
   "source": [
    "scores[1]"
   ]
  },
  {
   "cell_type": "code",
   "execution_count": 755,
   "metadata": {
    "collapsed": false
   },
   "outputs": [
    {
     "name": "stdout",
     "output_type": "stream",
     "text": [
      "loss = 0.14759324640520483\n",
      "accuracy = 0.9696312369596932\n"
     ]
    }
   ],
   "source": [
    "# 顯示 Model 評估測試資料的【損失函數誤差值】與【準確率】\n",
    "print( 'loss =', scores[0] )\n",
    "print( 'accuracy =', scores[1] )"
   ]
  },
  {
   "cell_type": "code",
   "execution_count": null,
   "metadata": {
    "collapsed": true
   },
   "outputs": [],
   "source": []
  },
  {
   "cell_type": "code",
   "execution_count": null,
   "metadata": {
    "collapsed": true
   },
   "outputs": [],
   "source": []
  },
  {
   "cell_type": "markdown",
   "metadata": {},
   "source": [
    "# 進行預測 <gina+oldmom資料>"
   ]
  },
  {
   "cell_type": "code",
   "execution_count": 756,
   "metadata": {
    "collapsed": true
   },
   "outputs": [],
   "source": [
    "#匯入oldmom x資料   ##header=None，不把資料的第 1 row當作col名\n",
    "data5 = pd.read_csv('C:/Users/Big data/Desktop/gina_log/sample_A1_all_noTime_6col.csv',header=None)\n",
    "#匯入oldmom y資料\n",
    "data5_y = pd.read_csv('C:/Users/Big data/Desktop/gina_log/sample_A1_all_noTime_Y_value-test5State.csv',header=None)"
   ]
  },
  {
   "cell_type": "markdown",
   "metadata": {},
   "source": [
    "#x"
   ]
  },
  {
   "cell_type": "code",
   "execution_count": 757,
   "metadata": {
    "collapsed": false
   },
   "outputs": [
    {
     "data": {
      "text/html": [
       "<div>\n",
       "<style scoped>\n",
       "    .dataframe tbody tr th:only-of-type {\n",
       "        vertical-align: middle;\n",
       "    }\n",
       "\n",
       "    .dataframe tbody tr th {\n",
       "        vertical-align: top;\n",
       "    }\n",
       "\n",
       "    .dataframe thead th {\n",
       "        text-align: right;\n",
       "    }\n",
       "</style>\n",
       "<table border=\"1\" class=\"dataframe\">\n",
       "  <thead>\n",
       "    <tr style=\"text-align: right;\">\n",
       "      <th></th>\n",
       "      <th>0</th>\n",
       "      <th>1</th>\n",
       "      <th>2</th>\n",
       "      <th>3</th>\n",
       "      <th>4</th>\n",
       "      <th>5</th>\n",
       "    </tr>\n",
       "  </thead>\n",
       "  <tbody>\n",
       "    <tr>\n",
       "      <th>0</th>\n",
       "      <td>-0.68604</td>\n",
       "      <td>-0.79346</td>\n",
       "      <td>-9.55322</td>\n",
       "      <td>1.82443</td>\n",
       "      <td>12.01527</td>\n",
       "      <td>4.87786</td>\n",
       "    </tr>\n",
       "    <tr>\n",
       "      <th>1</th>\n",
       "      <td>-1.01562</td>\n",
       "      <td>-0.88867</td>\n",
       "      <td>-9.76318</td>\n",
       "      <td>-1.86260</td>\n",
       "      <td>9.38931</td>\n",
       "      <td>4.34351</td>\n",
       "    </tr>\n",
       "    <tr>\n",
       "      <th>2</th>\n",
       "      <td>-0.72510</td>\n",
       "      <td>-0.78125</td>\n",
       "      <td>-9.70459</td>\n",
       "      <td>-3.45802</td>\n",
       "      <td>8.58779</td>\n",
       "      <td>2.92366</td>\n",
       "    </tr>\n",
       "    <tr>\n",
       "      <th>3</th>\n",
       "      <td>-0.74707</td>\n",
       "      <td>-0.13916</td>\n",
       "      <td>-9.74854</td>\n",
       "      <td>-4.38931</td>\n",
       "      <td>9.75573</td>\n",
       "      <td>3.15267</td>\n",
       "    </tr>\n",
       "    <tr>\n",
       "      <th>4</th>\n",
       "      <td>-0.29785</td>\n",
       "      <td>0.01221</td>\n",
       "      <td>-9.66797</td>\n",
       "      <td>-3.36641</td>\n",
       "      <td>-0.08397</td>\n",
       "      <td>5.09924</td>\n",
       "    </tr>\n",
       "    <tr>\n",
       "      <th>5</th>\n",
       "      <td>-0.42236</td>\n",
       "      <td>-0.23438</td>\n",
       "      <td>-9.87549</td>\n",
       "      <td>-1.74046</td>\n",
       "      <td>-8.27481</td>\n",
       "      <td>4.90840</td>\n",
       "    </tr>\n",
       "    <tr>\n",
       "      <th>6</th>\n",
       "      <td>-1.37939</td>\n",
       "      <td>-0.45410</td>\n",
       "      <td>-9.90723</td>\n",
       "      <td>-4.06870</td>\n",
       "      <td>0.87023</td>\n",
       "      <td>2.70229</td>\n",
       "    </tr>\n",
       "    <tr>\n",
       "      <th>7</th>\n",
       "      <td>-0.98389</td>\n",
       "      <td>-0.29297</td>\n",
       "      <td>-9.58252</td>\n",
       "      <td>-3.14504</td>\n",
       "      <td>4.40458</td>\n",
       "      <td>0.49618</td>\n",
       "    </tr>\n",
       "    <tr>\n",
       "      <th>8</th>\n",
       "      <td>-0.86670</td>\n",
       "      <td>0.03906</td>\n",
       "      <td>-10.41260</td>\n",
       "      <td>4.66412</td>\n",
       "      <td>0.00000</td>\n",
       "      <td>1.14504</td>\n",
       "    </tr>\n",
       "    <tr>\n",
       "      <th>9</th>\n",
       "      <td>-0.53467</td>\n",
       "      <td>-0.60547</td>\n",
       "      <td>-9.55078</td>\n",
       "      <td>3.64122</td>\n",
       "      <td>2.46565</td>\n",
       "      <td>3.39695</td>\n",
       "    </tr>\n",
       "    <tr>\n",
       "      <th>10</th>\n",
       "      <td>-0.42725</td>\n",
       "      <td>-1.08643</td>\n",
       "      <td>-9.76562</td>\n",
       "      <td>0.87023</td>\n",
       "      <td>-11.63359</td>\n",
       "      <td>3.14504</td>\n",
       "    </tr>\n",
       "    <tr>\n",
       "      <th>11</th>\n",
       "      <td>-0.68604</td>\n",
       "      <td>-0.76172</td>\n",
       "      <td>-9.83398</td>\n",
       "      <td>-0.04580</td>\n",
       "      <td>-18.55725</td>\n",
       "      <td>-0.32061</td>\n",
       "    </tr>\n",
       "    <tr>\n",
       "      <th>12</th>\n",
       "      <td>-1.17432</td>\n",
       "      <td>-0.31494</td>\n",
       "      <td>-9.79980</td>\n",
       "      <td>-3.32824</td>\n",
       "      <td>-19.41221</td>\n",
       "      <td>-0.44275</td>\n",
       "    </tr>\n",
       "    <tr>\n",
       "      <th>13</th>\n",
       "      <td>-1.80420</td>\n",
       "      <td>0.18311</td>\n",
       "      <td>-9.92188</td>\n",
       "      <td>-3.24427</td>\n",
       "      <td>-1.93130</td>\n",
       "      <td>2.80153</td>\n",
       "    </tr>\n",
       "    <tr>\n",
       "      <th>14</th>\n",
       "      <td>-1.35742</td>\n",
       "      <td>-0.45898</td>\n",
       "      <td>-9.92920</td>\n",
       "      <td>-1.43511</td>\n",
       "      <td>10.06870</td>\n",
       "      <td>5.65649</td>\n",
       "    </tr>\n",
       "    <tr>\n",
       "      <th>15</th>\n",
       "      <td>-0.94971</td>\n",
       "      <td>-0.57129</td>\n",
       "      <td>-9.81934</td>\n",
       "      <td>-2.79389</td>\n",
       "      <td>9.60305</td>\n",
       "      <td>3.51908</td>\n",
       "    </tr>\n",
       "    <tr>\n",
       "      <th>16</th>\n",
       "      <td>-0.70312</td>\n",
       "      <td>-0.59570</td>\n",
       "      <td>-9.57031</td>\n",
       "      <td>-4.79389</td>\n",
       "      <td>4.66412</td>\n",
       "      <td>1.52672</td>\n",
       "    </tr>\n",
       "    <tr>\n",
       "      <th>17</th>\n",
       "      <td>-0.86914</td>\n",
       "      <td>-0.19043</td>\n",
       "      <td>-10.26855</td>\n",
       "      <td>-0.51145</td>\n",
       "      <td>-1.35878</td>\n",
       "      <td>1.18321</td>\n",
       "    </tr>\n",
       "    <tr>\n",
       "      <th>18</th>\n",
       "      <td>-0.54932</td>\n",
       "      <td>-0.50049</td>\n",
       "      <td>-9.86084</td>\n",
       "      <td>1.62595</td>\n",
       "      <td>-1.45038</td>\n",
       "      <td>2.09924</td>\n",
       "    </tr>\n",
       "    <tr>\n",
       "      <th>19</th>\n",
       "      <td>-0.85938</td>\n",
       "      <td>-0.98145</td>\n",
       "      <td>-9.52881</td>\n",
       "      <td>0.93130</td>\n",
       "      <td>-8.62595</td>\n",
       "      <td>1.75573</td>\n",
       "    </tr>\n",
       "    <tr>\n",
       "      <th>20</th>\n",
       "      <td>-1.16699</td>\n",
       "      <td>-0.75684</td>\n",
       "      <td>-9.89990</td>\n",
       "      <td>-1.79389</td>\n",
       "      <td>-7.42748</td>\n",
       "      <td>1.79389</td>\n",
       "    </tr>\n",
       "    <tr>\n",
       "      <th>21</th>\n",
       "      <td>-1.22803</td>\n",
       "      <td>-0.46143</td>\n",
       "      <td>-9.55322</td>\n",
       "      <td>-4.50382</td>\n",
       "      <td>-1.90840</td>\n",
       "      <td>2.90076</td>\n",
       "    </tr>\n",
       "    <tr>\n",
       "      <th>22</th>\n",
       "      <td>-1.01807</td>\n",
       "      <td>-0.00732</td>\n",
       "      <td>-9.68994</td>\n",
       "      <td>-3.54198</td>\n",
       "      <td>-2.72519</td>\n",
       "      <td>3.58015</td>\n",
       "    </tr>\n",
       "    <tr>\n",
       "      <th>23</th>\n",
       "      <td>-0.76416</td>\n",
       "      <td>-0.01953</td>\n",
       "      <td>-9.55811</td>\n",
       "      <td>-1.69466</td>\n",
       "      <td>-5.39695</td>\n",
       "      <td>3.00763</td>\n",
       "    </tr>\n",
       "    <tr>\n",
       "      <th>24</th>\n",
       "      <td>-0.98389</td>\n",
       "      <td>-0.40283</td>\n",
       "      <td>-9.81201</td>\n",
       "      <td>0.23664</td>\n",
       "      <td>-8.08397</td>\n",
       "      <td>1.87786</td>\n",
       "    </tr>\n",
       "    <tr>\n",
       "      <th>25</th>\n",
       "      <td>-1.20117</td>\n",
       "      <td>-0.56885</td>\n",
       "      <td>-9.79004</td>\n",
       "      <td>-1.74046</td>\n",
       "      <td>-8.72519</td>\n",
       "      <td>1.47328</td>\n",
       "    </tr>\n",
       "    <tr>\n",
       "      <th>26</th>\n",
       "      <td>-1.34521</td>\n",
       "      <td>-0.57861</td>\n",
       "      <td>-9.87061</td>\n",
       "      <td>-2.91603</td>\n",
       "      <td>-4.35878</td>\n",
       "      <td>1.38931</td>\n",
       "    </tr>\n",
       "    <tr>\n",
       "      <th>27</th>\n",
       "      <td>-1.56982</td>\n",
       "      <td>-0.32959</td>\n",
       "      <td>-10.52002</td>\n",
       "      <td>2.12977</td>\n",
       "      <td>-2.16794</td>\n",
       "      <td>1.64885</td>\n",
       "    </tr>\n",
       "    <tr>\n",
       "      <th>28</th>\n",
       "      <td>-1.07178</td>\n",
       "      <td>-0.82520</td>\n",
       "      <td>-9.72412</td>\n",
       "      <td>2.63359</td>\n",
       "      <td>1.84733</td>\n",
       "      <td>2.62595</td>\n",
       "    </tr>\n",
       "    <tr>\n",
       "      <th>29</th>\n",
       "      <td>-0.92285</td>\n",
       "      <td>-0.99121</td>\n",
       "      <td>-9.84375</td>\n",
       "      <td>0.30534</td>\n",
       "      <td>-6.00763</td>\n",
       "      <td>2.84733</td>\n",
       "    </tr>\n",
       "    <tr>\n",
       "      <th>...</th>\n",
       "      <td>...</td>\n",
       "      <td>...</td>\n",
       "      <td>...</td>\n",
       "      <td>...</td>\n",
       "      <td>...</td>\n",
       "      <td>...</td>\n",
       "    </tr>\n",
       "    <tr>\n",
       "      <th>36540</th>\n",
       "      <td>1.18408</td>\n",
       "      <td>-0.64941</td>\n",
       "      <td>-3.98682</td>\n",
       "      <td>18.36641</td>\n",
       "      <td>59.35878</td>\n",
       "      <td>-27.45038</td>\n",
       "    </tr>\n",
       "    <tr>\n",
       "      <th>36541</th>\n",
       "      <td>-1.38916</td>\n",
       "      <td>-1.66748</td>\n",
       "      <td>-3.14697</td>\n",
       "      <td>17.70229</td>\n",
       "      <td>43.51145</td>\n",
       "      <td>-24.29008</td>\n",
       "    </tr>\n",
       "    <tr>\n",
       "      <th>36542</th>\n",
       "      <td>-0.99121</td>\n",
       "      <td>-6.20605</td>\n",
       "      <td>-12.97852</td>\n",
       "      <td>2.91603</td>\n",
       "      <td>85.83206</td>\n",
       "      <td>-57.99237</td>\n",
       "    </tr>\n",
       "    <tr>\n",
       "      <th>36543</th>\n",
       "      <td>-1.17188</td>\n",
       "      <td>-5.66406</td>\n",
       "      <td>-12.20947</td>\n",
       "      <td>-35.38931</td>\n",
       "      <td>64.69466</td>\n",
       "      <td>-56.54198</td>\n",
       "    </tr>\n",
       "    <tr>\n",
       "      <th>36544</th>\n",
       "      <td>0.88867</td>\n",
       "      <td>0.50781</td>\n",
       "      <td>-14.37256</td>\n",
       "      <td>-56.54962</td>\n",
       "      <td>89.74809</td>\n",
       "      <td>-15.78626</td>\n",
       "    </tr>\n",
       "    <tr>\n",
       "      <th>36545</th>\n",
       "      <td>6.55762</td>\n",
       "      <td>7.09717</td>\n",
       "      <td>-12.40234</td>\n",
       "      <td>-24.25954</td>\n",
       "      <td>38.40458</td>\n",
       "      <td>4.89313</td>\n",
       "    </tr>\n",
       "    <tr>\n",
       "      <th>36546</th>\n",
       "      <td>6.82617</td>\n",
       "      <td>7.41699</td>\n",
       "      <td>-9.30420</td>\n",
       "      <td>9.28244</td>\n",
       "      <td>-63.09924</td>\n",
       "      <td>8.29771</td>\n",
       "    </tr>\n",
       "    <tr>\n",
       "      <th>36547</th>\n",
       "      <td>3.80127</td>\n",
       "      <td>3.42285</td>\n",
       "      <td>-5.49316</td>\n",
       "      <td>37.61069</td>\n",
       "      <td>-149.48092</td>\n",
       "      <td>6.29008</td>\n",
       "    </tr>\n",
       "    <tr>\n",
       "      <th>36548</th>\n",
       "      <td>-1.62354</td>\n",
       "      <td>0.27832</td>\n",
       "      <td>-2.16797</td>\n",
       "      <td>30.16794</td>\n",
       "      <td>-158.20611</td>\n",
       "      <td>34.54962</td>\n",
       "    </tr>\n",
       "    <tr>\n",
       "      <th>36549</th>\n",
       "      <td>-1.10596</td>\n",
       "      <td>-0.13916</td>\n",
       "      <td>-5.79102</td>\n",
       "      <td>8.94656</td>\n",
       "      <td>-147.88550</td>\n",
       "      <td>31.22901</td>\n",
       "    </tr>\n",
       "    <tr>\n",
       "      <th>36550</th>\n",
       "      <td>-2.30469</td>\n",
       "      <td>-2.92969</td>\n",
       "      <td>-10.31494</td>\n",
       "      <td>40.35115</td>\n",
       "      <td>-189.83969</td>\n",
       "      <td>30.51145</td>\n",
       "    </tr>\n",
       "    <tr>\n",
       "      <th>36551</th>\n",
       "      <td>-5.82764</td>\n",
       "      <td>-7.63672</td>\n",
       "      <td>-12.31934</td>\n",
       "      <td>-9.07634</td>\n",
       "      <td>-103.87786</td>\n",
       "      <td>40.37405</td>\n",
       "    </tr>\n",
       "    <tr>\n",
       "      <th>36552</th>\n",
       "      <td>-7.85400</td>\n",
       "      <td>-5.62256</td>\n",
       "      <td>-13.26904</td>\n",
       "      <td>-79.69466</td>\n",
       "      <td>54.51145</td>\n",
       "      <td>48.54962</td>\n",
       "    </tr>\n",
       "    <tr>\n",
       "      <th>36553</th>\n",
       "      <td>-2.65137</td>\n",
       "      <td>3.81592</td>\n",
       "      <td>-13.65234</td>\n",
       "      <td>-67.09924</td>\n",
       "      <td>76.19084</td>\n",
       "      <td>46.43511</td>\n",
       "    </tr>\n",
       "    <tr>\n",
       "      <th>36554</th>\n",
       "      <td>0.47119</td>\n",
       "      <td>8.46191</td>\n",
       "      <td>-12.38770</td>\n",
       "      <td>-11.07634</td>\n",
       "      <td>36.35115</td>\n",
       "      <td>1.60305</td>\n",
       "    </tr>\n",
       "    <tr>\n",
       "      <th>36555</th>\n",
       "      <td>-0.36865</td>\n",
       "      <td>6.42090</td>\n",
       "      <td>-9.21631</td>\n",
       "      <td>31.25954</td>\n",
       "      <td>50.48855</td>\n",
       "      <td>-18.10687</td>\n",
       "    </tr>\n",
       "    <tr>\n",
       "      <th>36556</th>\n",
       "      <td>0.31494</td>\n",
       "      <td>1.85791</td>\n",
       "      <td>-6.51367</td>\n",
       "      <td>44.01527</td>\n",
       "      <td>70.25954</td>\n",
       "      <td>-22.10687</td>\n",
       "    </tr>\n",
       "    <tr>\n",
       "      <th>36557</th>\n",
       "      <td>1.29883</td>\n",
       "      <td>-0.30762</td>\n",
       "      <td>-4.80469</td>\n",
       "      <td>42.29771</td>\n",
       "      <td>45.47328</td>\n",
       "      <td>-32.71756</td>\n",
       "    </tr>\n",
       "    <tr>\n",
       "      <th>36558</th>\n",
       "      <td>-1.66992</td>\n",
       "      <td>-1.00342</td>\n",
       "      <td>-5.76660</td>\n",
       "      <td>5.44275</td>\n",
       "      <td>52.53435</td>\n",
       "      <td>-25.99237</td>\n",
       "    </tr>\n",
       "    <tr>\n",
       "      <th>36559</th>\n",
       "      <td>-0.79102</td>\n",
       "      <td>-4.83887</td>\n",
       "      <td>-10.77393</td>\n",
       "      <td>22.04580</td>\n",
       "      <td>65.70229</td>\n",
       "      <td>-46.80916</td>\n",
       "    </tr>\n",
       "    <tr>\n",
       "      <th>36560</th>\n",
       "      <td>-2.75391</td>\n",
       "      <td>-6.34277</td>\n",
       "      <td>-11.07422</td>\n",
       "      <td>-34.30534</td>\n",
       "      <td>97.22901</td>\n",
       "      <td>-59.73282</td>\n",
       "    </tr>\n",
       "    <tr>\n",
       "      <th>36561</th>\n",
       "      <td>-1.10596</td>\n",
       "      <td>-3.56201</td>\n",
       "      <td>-14.16260</td>\n",
       "      <td>-46.64122</td>\n",
       "      <td>92.78626</td>\n",
       "      <td>-51.73282</td>\n",
       "    </tr>\n",
       "    <tr>\n",
       "      <th>36562</th>\n",
       "      <td>2.00684</td>\n",
       "      <td>2.64648</td>\n",
       "      <td>-13.82080</td>\n",
       "      <td>-61.83206</td>\n",
       "      <td>111.70229</td>\n",
       "      <td>-15.78626</td>\n",
       "    </tr>\n",
       "    <tr>\n",
       "      <th>36563</th>\n",
       "      <td>7.15332</td>\n",
       "      <td>8.30322</td>\n",
       "      <td>-11.79199</td>\n",
       "      <td>-24.18321</td>\n",
       "      <td>30.41221</td>\n",
       "      <td>-7.74046</td>\n",
       "    </tr>\n",
       "    <tr>\n",
       "      <th>36564</th>\n",
       "      <td>6.43555</td>\n",
       "      <td>6.87988</td>\n",
       "      <td>-7.57080</td>\n",
       "      <td>33.09924</td>\n",
       "      <td>-81.54198</td>\n",
       "      <td>-1.60305</td>\n",
       "    </tr>\n",
       "    <tr>\n",
       "      <th>36565</th>\n",
       "      <td>1.57471</td>\n",
       "      <td>1.06934</td>\n",
       "      <td>-5.97656</td>\n",
       "      <td>41.22137</td>\n",
       "      <td>-168.61832</td>\n",
       "      <td>4.88550</td>\n",
       "    </tr>\n",
       "    <tr>\n",
       "      <th>36566</th>\n",
       "      <td>-2.87354</td>\n",
       "      <td>0.49561</td>\n",
       "      <td>-2.28027</td>\n",
       "      <td>35.67176</td>\n",
       "      <td>-119.09924</td>\n",
       "      <td>35.47328</td>\n",
       "    </tr>\n",
       "    <tr>\n",
       "      <th>36567</th>\n",
       "      <td>-0.49561</td>\n",
       "      <td>-2.57324</td>\n",
       "      <td>-7.98340</td>\n",
       "      <td>3.80153</td>\n",
       "      <td>-149.40458</td>\n",
       "      <td>27.41985</td>\n",
       "    </tr>\n",
       "    <tr>\n",
       "      <th>36568</th>\n",
       "      <td>-2.64404</td>\n",
       "      <td>-4.78760</td>\n",
       "      <td>-12.04834</td>\n",
       "      <td>8.70992</td>\n",
       "      <td>-138.11450</td>\n",
       "      <td>35.66412</td>\n",
       "    </tr>\n",
       "    <tr>\n",
       "      <th>36569</th>\n",
       "      <td>-6.39160</td>\n",
       "      <td>-6.06445</td>\n",
       "      <td>-12.46094</td>\n",
       "      <td>-37.12214</td>\n",
       "      <td>-57.61832</td>\n",
       "      <td>45.55725</td>\n",
       "    </tr>\n",
       "  </tbody>\n",
       "</table>\n",
       "<p>36570 rows × 6 columns</p>\n",
       "</div>"
      ],
      "text/plain": [
       "             0        1         2         3          4         5\n",
       "0     -0.68604 -0.79346  -9.55322   1.82443   12.01527   4.87786\n",
       "1     -1.01562 -0.88867  -9.76318  -1.86260    9.38931   4.34351\n",
       "2     -0.72510 -0.78125  -9.70459  -3.45802    8.58779   2.92366\n",
       "3     -0.74707 -0.13916  -9.74854  -4.38931    9.75573   3.15267\n",
       "4     -0.29785  0.01221  -9.66797  -3.36641   -0.08397   5.09924\n",
       "5     -0.42236 -0.23438  -9.87549  -1.74046   -8.27481   4.90840\n",
       "6     -1.37939 -0.45410  -9.90723  -4.06870    0.87023   2.70229\n",
       "7     -0.98389 -0.29297  -9.58252  -3.14504    4.40458   0.49618\n",
       "8     -0.86670  0.03906 -10.41260   4.66412    0.00000   1.14504\n",
       "9     -0.53467 -0.60547  -9.55078   3.64122    2.46565   3.39695\n",
       "10    -0.42725 -1.08643  -9.76562   0.87023  -11.63359   3.14504\n",
       "11    -0.68604 -0.76172  -9.83398  -0.04580  -18.55725  -0.32061\n",
       "12    -1.17432 -0.31494  -9.79980  -3.32824  -19.41221  -0.44275\n",
       "13    -1.80420  0.18311  -9.92188  -3.24427   -1.93130   2.80153\n",
       "14    -1.35742 -0.45898  -9.92920  -1.43511   10.06870   5.65649\n",
       "15    -0.94971 -0.57129  -9.81934  -2.79389    9.60305   3.51908\n",
       "16    -0.70312 -0.59570  -9.57031  -4.79389    4.66412   1.52672\n",
       "17    -0.86914 -0.19043 -10.26855  -0.51145   -1.35878   1.18321\n",
       "18    -0.54932 -0.50049  -9.86084   1.62595   -1.45038   2.09924\n",
       "19    -0.85938 -0.98145  -9.52881   0.93130   -8.62595   1.75573\n",
       "20    -1.16699 -0.75684  -9.89990  -1.79389   -7.42748   1.79389\n",
       "21    -1.22803 -0.46143  -9.55322  -4.50382   -1.90840   2.90076\n",
       "22    -1.01807 -0.00732  -9.68994  -3.54198   -2.72519   3.58015\n",
       "23    -0.76416 -0.01953  -9.55811  -1.69466   -5.39695   3.00763\n",
       "24    -0.98389 -0.40283  -9.81201   0.23664   -8.08397   1.87786\n",
       "25    -1.20117 -0.56885  -9.79004  -1.74046   -8.72519   1.47328\n",
       "26    -1.34521 -0.57861  -9.87061  -2.91603   -4.35878   1.38931\n",
       "27    -1.56982 -0.32959 -10.52002   2.12977   -2.16794   1.64885\n",
       "28    -1.07178 -0.82520  -9.72412   2.63359    1.84733   2.62595\n",
       "29    -0.92285 -0.99121  -9.84375   0.30534   -6.00763   2.84733\n",
       "...        ...      ...       ...       ...        ...       ...\n",
       "36540  1.18408 -0.64941  -3.98682  18.36641   59.35878 -27.45038\n",
       "36541 -1.38916 -1.66748  -3.14697  17.70229   43.51145 -24.29008\n",
       "36542 -0.99121 -6.20605 -12.97852   2.91603   85.83206 -57.99237\n",
       "36543 -1.17188 -5.66406 -12.20947 -35.38931   64.69466 -56.54198\n",
       "36544  0.88867  0.50781 -14.37256 -56.54962   89.74809 -15.78626\n",
       "36545  6.55762  7.09717 -12.40234 -24.25954   38.40458   4.89313\n",
       "36546  6.82617  7.41699  -9.30420   9.28244  -63.09924   8.29771\n",
       "36547  3.80127  3.42285  -5.49316  37.61069 -149.48092   6.29008\n",
       "36548 -1.62354  0.27832  -2.16797  30.16794 -158.20611  34.54962\n",
       "36549 -1.10596 -0.13916  -5.79102   8.94656 -147.88550  31.22901\n",
       "36550 -2.30469 -2.92969 -10.31494  40.35115 -189.83969  30.51145\n",
       "36551 -5.82764 -7.63672 -12.31934  -9.07634 -103.87786  40.37405\n",
       "36552 -7.85400 -5.62256 -13.26904 -79.69466   54.51145  48.54962\n",
       "36553 -2.65137  3.81592 -13.65234 -67.09924   76.19084  46.43511\n",
       "36554  0.47119  8.46191 -12.38770 -11.07634   36.35115   1.60305\n",
       "36555 -0.36865  6.42090  -9.21631  31.25954   50.48855 -18.10687\n",
       "36556  0.31494  1.85791  -6.51367  44.01527   70.25954 -22.10687\n",
       "36557  1.29883 -0.30762  -4.80469  42.29771   45.47328 -32.71756\n",
       "36558 -1.66992 -1.00342  -5.76660   5.44275   52.53435 -25.99237\n",
       "36559 -0.79102 -4.83887 -10.77393  22.04580   65.70229 -46.80916\n",
       "36560 -2.75391 -6.34277 -11.07422 -34.30534   97.22901 -59.73282\n",
       "36561 -1.10596 -3.56201 -14.16260 -46.64122   92.78626 -51.73282\n",
       "36562  2.00684  2.64648 -13.82080 -61.83206  111.70229 -15.78626\n",
       "36563  7.15332  8.30322 -11.79199 -24.18321   30.41221  -7.74046\n",
       "36564  6.43555  6.87988  -7.57080  33.09924  -81.54198  -1.60305\n",
       "36565  1.57471  1.06934  -5.97656  41.22137 -168.61832   4.88550\n",
       "36566 -2.87354  0.49561  -2.28027  35.67176 -119.09924  35.47328\n",
       "36567 -0.49561 -2.57324  -7.98340   3.80153 -149.40458  27.41985\n",
       "36568 -2.64404 -4.78760 -12.04834   8.70992 -138.11450  35.66412\n",
       "36569 -6.39160 -6.06445 -12.46094 -37.12214  -57.61832  45.55725\n",
       "\n",
       "[36570 rows x 6 columns]"
      ]
     },
     "execution_count": 757,
     "metadata": {},
     "output_type": "execute_result"
    }
   ],
   "source": [
    "data5"
   ]
  },
  {
   "cell_type": "code",
   "execution_count": 758,
   "metadata": {
    "collapsed": false
   },
   "outputs": [
    {
     "data": {
      "text/plain": [
       "(36570, 6)"
      ]
     },
     "execution_count": 758,
     "metadata": {},
     "output_type": "execute_result"
    }
   ],
   "source": [
    "#看資料樣子\n",
    "data5.shape"
   ]
  },
  {
   "cell_type": "code",
   "execution_count": 759,
   "metadata": {
    "collapsed": true
   },
   "outputs": [],
   "source": [
    "#資料轉array\n",
    "data5_Array = data5.values"
   ]
  },
  {
   "cell_type": "code",
   "execution_count": 760,
   "metadata": {
    "collapsed": false
   },
   "outputs": [
    {
     "data": {
      "text/plain": [
       "(36570, 6)"
      ]
     },
     "execution_count": 760,
     "metadata": {},
     "output_type": "execute_result"
    }
   ],
   "source": [
    "#看資料樣子\n",
    "data5_Array.shape"
   ]
  },
  {
   "cell_type": "code",
   "execution_count": 761,
   "metadata": {
    "collapsed": true
   },
   "outputs": [],
   "source": [
    "#原來(row=36570,col=6) -> reshape(row=36570/30=1219,col=36570*6/1219=180)\n",
    "data5_Array = data5_Array.reshape(len(data5_Array)//30,-1)"
   ]
  },
  {
   "cell_type": "code",
   "execution_count": 762,
   "metadata": {
    "collapsed": false
   },
   "outputs": [
    {
     "data": {
      "text/plain": [
       "(1219, 180)"
      ]
     },
     "execution_count": 762,
     "metadata": {},
     "output_type": "execute_result"
    }
   ],
   "source": [
    "#看資料樣子\n",
    "data5_Array.shape"
   ]
  },
  {
   "cell_type": "markdown",
   "metadata": {},
   "source": [
    "#y"
   ]
  },
  {
   "cell_type": "code",
   "execution_count": 763,
   "metadata": {
    "collapsed": false
   },
   "outputs": [
    {
     "data": {
      "text/plain": [
       "(1219, 1)"
      ]
     },
     "execution_count": 763,
     "metadata": {},
     "output_type": "execute_result"
    }
   ],
   "source": [
    "#看資料樣子\n",
    "data5_y.shape"
   ]
  },
  {
   "cell_type": "code",
   "execution_count": 764,
   "metadata": {
    "collapsed": true
   },
   "outputs": [],
   "source": [
    "#資料轉成OneHot encoding\n",
    "data5_y = np_utils.to_categorical(data5_y)"
   ]
  },
  {
   "cell_type": "code",
   "execution_count": 765,
   "metadata": {
    "collapsed": false
   },
   "outputs": [
    {
     "data": {
      "text/plain": [
       "array([[1., 0., 0., 0.],\n",
       "       [1., 0., 0., 0.],\n",
       "       [1., 0., 0., 0.],\n",
       "       ...,\n",
       "       [0., 1., 0., 0.],\n",
       "       [0., 0., 0., 1.],\n",
       "       [0., 0., 0., 1.]], dtype=float32)"
      ]
     },
     "execution_count": 765,
     "metadata": {},
     "output_type": "execute_result"
    }
   ],
   "source": [
    "#看資料樣子\n",
    "data5_y"
   ]
  },
  {
   "cell_type": "code",
   "execution_count": 766,
   "metadata": {
    "collapsed": false
   },
   "outputs": [
    {
     "data": {
      "text/plain": [
       "(1219, 4)"
      ]
     },
     "execution_count": 766,
     "metadata": {},
     "output_type": "execute_result"
    }
   ],
   "source": [
    "#看資料樣子\n",
    "data5_y.shape"
   ]
  },
  {
   "cell_type": "markdown",
   "metadata": {},
   "source": [
    "#合併oldmom的x和y資料"
   ]
  },
  {
   "cell_type": "code",
   "execution_count": 767,
   "metadata": {
    "collapsed": true
   },
   "outputs": [],
   "source": [
    "#橫向(水平線)合併x和y\n",
    "concatData = np.hstack((data5_Array,data5_y))"
   ]
  },
  {
   "cell_type": "code",
   "execution_count": 768,
   "metadata": {
    "collapsed": false,
    "scrolled": true
   },
   "outputs": [
    {
     "data": {
      "text/plain": [
       "array([[ -0.68604,  -0.79346,  -9.55322, ...,   0.     ,   0.     ,\n",
       "          0.     ],\n",
       "       [ -1.28662,  -0.78613,  -9.89746, ...,   0.     ,   0.     ,\n",
       "          0.     ],\n",
       "       [ -1.23291,  -0.5249 ,  -9.47266, ...,   0.     ,   0.     ,\n",
       "          0.     ],\n",
       "       ...,\n",
       "       [ -4.4751 ,  -5.22705, -12.75879, ...,   1.     ,   0.     ,\n",
       "          0.     ],\n",
       "       [  5.49561,   7.19971, -11.26953, ...,   0.     ,   0.     ,\n",
       "          1.     ],\n",
       "       [  1.18408,  -0.64941,  -3.98682, ...,   0.     ,   0.     ,\n",
       "          1.     ]])"
      ]
     },
     "execution_count": 768,
     "metadata": {},
     "output_type": "execute_result"
    }
   ],
   "source": [
    "#看資料樣子\n",
    "concatData"
   ]
  },
  {
   "cell_type": "code",
   "execution_count": 769,
   "metadata": {
    "collapsed": false
   },
   "outputs": [
    {
     "data": {
      "text/plain": [
       "(1219, 184)"
      ]
     },
     "execution_count": 769,
     "metadata": {},
     "output_type": "execute_result"
    }
   ],
   "source": [
    "#看資料樣子\n",
    "concatData.shape"
   ]
  },
  {
   "cell_type": "code",
   "execution_count": 770,
   "metadata": {
    "collapsed": false,
    "scrolled": true
   },
   "outputs": [
    {
     "data": {
      "text/plain": [
       "dtype('float64')"
      ]
     },
     "execution_count": 770,
     "metadata": {},
     "output_type": "execute_result"
    }
   ],
   "source": [
    "#看資料型態\n",
    "concatData.dtype"
   ]
  },
  {
   "cell_type": "markdown",
   "metadata": {},
   "source": [
    "#合併gina的x和y資料"
   ]
  },
  {
   "cell_type": "markdown",
   "metadata": {},
   "source": [
    "#gina x資料"
   ]
  },
  {
   "cell_type": "code",
   "execution_count": 771,
   "metadata": {
    "collapsed": true
   },
   "outputs": [],
   "source": [
    "data0 = pd.read_csv('C:/Users/Big data/Desktop/action-aftershift/stand-0.csv')\n",
    "data1 = pd.read_csv('C:/Users/Big data/Desktop/action-aftershift/walk-1.csv')\n",
    "data2 = pd.read_csv('C:/Users/Big data/Desktop/action-aftershift/run-2.csv')\n",
    "data3 = pd.read_csv('C:/Users/Big data/Desktop/action-aftershift/lie-3.csv')\n",
    "data4 = pd.read_csv('C:/Users/Big data/Desktop/action-aftershift/sit-4.csv')"
   ]
  },
  {
   "cell_type": "code",
   "execution_count": 772,
   "metadata": {
    "collapsed": true
   },
   "outputs": [],
   "source": [
    "#只取需要的6個col\n",
    "col = ['accel_xout_scaled','accel_yout_scaled','accel_zout_scaled','gyro_xout_scaled','gyro_yout_scaled','gyro_zout_scaled']\n",
    "\n",
    "data0 = data0[col]\n",
    "data1 = data1[col]\n",
    "data2 = data2[col]\n",
    "data3 = data3[col]\n",
    "data4 = data4[col]"
   ]
  },
  {
   "cell_type": "code",
   "execution_count": 773,
   "metadata": {
    "collapsed": true
   },
   "outputs": [],
   "source": [
    "#取12000後的資料\n",
    "data0 = data0[16800:]\n",
    "data1 = data1[16800:]\n",
    "data2 = data2[16800:]\n",
    "data3 = data3[16128:]\n",
    "data4 = data4[672:]"
   ]
  },
  {
   "cell_type": "code",
   "execution_count": 774,
   "metadata": {
    "collapsed": true
   },
   "outputs": [],
   "source": [
    "data0_Array = data0.values\n",
    "data1_Array = data1.values\n",
    "data2_Array = data2.values\n",
    "data3_Array = data3.values\n",
    "data4_Array = data4.values"
   ]
  },
  {
   "cell_type": "code",
   "execution_count": 775,
   "metadata": {
    "collapsed": true
   },
   "outputs": [],
   "source": [
    "#合併data3_Array(趴) & data4_Array(坐)\n",
    "data3_Array = np.vstack((data3_Array,data4_Array))"
   ]
  },
  {
   "cell_type": "code",
   "execution_count": 776,
   "metadata": {
    "collapsed": true
   },
   "outputs": [],
   "source": [
    "#將array從6個col轉成180個col   .reshape(row=總筆數除以30, col=全部)\n",
    "data0_Array = data0_Array.reshape(len(data0_Array)//30,-1)    #原來(row=34290,col=6) -> reshape(row=34290/30=1143,col=34290*6/1143=180)\n",
    "data1_Array = data1_Array.reshape(len(data1_Array)//30,-1)    # // -> 除以30後只取整數\n",
    "data2_Array = data2_Array.reshape(len(data2_Array)//30,-1)\n",
    "data3_Array = data3_Array.reshape(len(data3_Array)//30,-1)"
   ]
  },
  {
   "cell_type": "code",
   "execution_count": 777,
   "metadata": {
    "collapsed": true
   },
   "outputs": [],
   "source": [
    "#資料垂直(縱向)合併\n",
    "concatData_x = np.vstack((data0_Array,data1_Array,data2_Array,data3_Array))"
   ]
  },
  {
   "cell_type": "code",
   "execution_count": 778,
   "metadata": {
    "collapsed": false
   },
   "outputs": [
    {
     "data": {
      "text/plain": [
       "(20080, 180)"
      ]
     },
     "execution_count": 778,
     "metadata": {},
     "output_type": "execute_result"
    }
   ],
   "source": [
    "#看資料樣子\n",
    "concatData_x.shape"
   ]
  },
  {
   "cell_type": "markdown",
   "metadata": {},
   "source": [
    "#gina y資料"
   ]
  },
  {
   "cell_type": "code",
   "execution_count": 779,
   "metadata": {
    "collapsed": true
   },
   "outputs": [],
   "source": [
    "d_stand = np.zeros(shape=(len(data0_Array),1))   #建 762x1，值皆為 0\n",
    "\n",
    "d_walk = np.zeros(shape=(len(data1_Array),1))   #建 6917x1，值皆為 0\n",
    "d_walk[:,:] = 1                      #全部給值 1\n",
    "\n",
    "d_run = np.zeros(shape=(len(data2_Array),1))      #建 375x1，值皆為 0\n",
    "d_run[:,:] = 2                       #全部給值 2\n",
    "\n",
    "d_rest = np.zeros(shape=(len(data3_Array),1))     #建 6825x1，值皆為 0\n",
    "d_rest[:,:] = 3                       #全部給值 3"
   ]
  },
  {
   "cell_type": "code",
   "execution_count": 780,
   "metadata": {
    "collapsed": true
   },
   "outputs": [],
   "source": [
    "#資料垂直(縱向)合併\n",
    "concatData_y = np.vstack((d_stand,d_walk,d_run,d_rest))"
   ]
  },
  {
   "cell_type": "code",
   "execution_count": 781,
   "metadata": {
    "collapsed": true
   },
   "outputs": [],
   "source": [
    "#把y做 OneHot encoding\n",
    "concatData_y = np_utils.to_categorical(concatData_y)"
   ]
  },
  {
   "cell_type": "code",
   "execution_count": 782,
   "metadata": {
    "collapsed": false
   },
   "outputs": [
    {
     "data": {
      "text/plain": [
       "(20080, 4)"
      ]
     },
     "execution_count": 782,
     "metadata": {},
     "output_type": "execute_result"
    }
   ],
   "source": [
    "#看資料樣子\n",
    "concatData_y.shape"
   ]
  },
  {
   "cell_type": "markdown",
   "metadata": {},
   "source": [
    "#合併gina x和y資料"
   ]
  },
  {
   "cell_type": "code",
   "execution_count": 783,
   "metadata": {
    "collapsed": true
   },
   "outputs": [],
   "source": [
    "#橫向(水平線)合併x和y\n",
    "concatData_xy = np.hstack((concatData_x,concatData_y)) "
   ]
  },
  {
   "cell_type": "code",
   "execution_count": 784,
   "metadata": {
    "collapsed": false
   },
   "outputs": [
    {
     "data": {
      "text/plain": [
       "(20080, 184)"
      ]
     },
     "execution_count": 784,
     "metadata": {},
     "output_type": "execute_result"
    }
   ],
   "source": [
    "#看資料樣子\n",
    "concatData_xy.shape"
   ]
  },
  {
   "cell_type": "code",
   "execution_count": null,
   "metadata": {
    "collapsed": true
   },
   "outputs": [],
   "source": []
  },
  {
   "cell_type": "code",
   "execution_count": null,
   "metadata": {
    "collapsed": true
   },
   "outputs": [],
   "source": []
  },
  {
   "cell_type": "markdown",
   "metadata": {},
   "source": [
    "#合併gina和oldmom資料"
   ]
  },
  {
   "cell_type": "code",
   "execution_count": 785,
   "metadata": {
    "collapsed": true
   },
   "outputs": [],
   "source": [
    "#垂直合併gina和oldmom資料\n",
    "concatData = np.vstack((concatData_xy,concatData)) "
   ]
  },
  {
   "cell_type": "code",
   "execution_count": 786,
   "metadata": {
    "collapsed": false
   },
   "outputs": [
    {
     "data": {
      "text/plain": [
       "(21299, 184)"
      ]
     },
     "execution_count": 786,
     "metadata": {},
     "output_type": "execute_result"
    }
   ],
   "source": [
    "#看資料樣子\n",
    "concatData.shape"
   ]
  },
  {
   "cell_type": "code",
   "execution_count": null,
   "metadata": {
    "collapsed": true
   },
   "outputs": [],
   "source": []
  },
  {
   "cell_type": "markdown",
   "metadata": {},
   "source": [
    "# "
   ]
  },
  {
   "cell_type": "code",
   "execution_count": 787,
   "metadata": {
    "collapsed": true
   },
   "outputs": [],
   "source": [
    "#資料帶入PreprocessData函數\n",
    "all_Features,Label = PreprocessData(concatData)"
   ]
  },
  {
   "cell_type": "code",
   "execution_count": 788,
   "metadata": {
    "collapsed": false
   },
   "outputs": [
    {
     "data": {
      "text/plain": [
       "(21299, 180)"
      ]
     },
     "execution_count": 788,
     "metadata": {},
     "output_type": "execute_result"
    }
   ],
   "source": [
    "#看資料樣子\n",
    "all_Features.shape\n",
    "#all_Features[:1]"
   ]
  },
  {
   "cell_type": "code",
   "execution_count": 789,
   "metadata": {
    "collapsed": false
   },
   "outputs": [
    {
     "data": {
      "text/plain": [
       "(21299, 4)"
      ]
     },
     "execution_count": 789,
     "metadata": {},
     "output_type": "execute_result"
    }
   ],
   "source": [
    "#看資料樣子\n",
    "Label.shape\n",
    "#Label[:2]"
   ]
  },
  {
   "cell_type": "code",
   "execution_count": null,
   "metadata": {
    "collapsed": true
   },
   "outputs": [],
   "source": []
  },
  {
   "cell_type": "code",
   "execution_count": 790,
   "metadata": {
    "collapsed": true
   },
   "outputs": [],
   "source": [
    "#資料帶入model進行預測\n",
    "all_probability = model.predict_classes(all_Features)"
   ]
  },
  {
   "cell_type": "code",
   "execution_count": 791,
   "metadata": {
    "collapsed": false
   },
   "outputs": [
    {
     "data": {
      "text/plain": [
       "array([0, 0, 1, 0, 0, 0, 0, 0, 0, 0, 0, 0, 0, 0, 0, 0, 0, 0, 0, 0, 0, 0,\n",
       "       0, 0, 1, 0, 0, 0, 0, 0, 0, 0, 0, 0, 0, 0, 0, 0, 0, 0, 0, 0, 0, 0,\n",
       "       0, 0, 0, 0, 0, 0, 0, 0, 0, 0, 0, 0, 0, 0, 0, 0, 0, 0, 0, 0, 0, 0,\n",
       "       0, 0, 0, 0, 0, 0, 0, 0, 0, 0, 0, 0, 0, 0, 0, 0, 0, 0, 0, 0, 0, 0,\n",
       "       0, 0, 0, 0, 0, 0, 0, 0, 0, 0, 0, 0, 0, 0, 0, 0, 0, 0, 0, 0, 0, 0,\n",
       "       0, 0, 0, 0, 0, 0, 0, 0, 0, 0, 0, 0, 0, 0, 0, 0, 0, 0, 0, 0, 0, 0,\n",
       "       0, 0, 0, 0, 0, 0, 0, 0, 0, 0, 0, 0, 0, 0, 0, 0, 0, 0, 0, 0, 0, 0,\n",
       "       0, 0, 0, 0, 0, 0, 0, 0, 0, 0, 0, 0, 0, 0, 0, 0, 0, 0, 0, 0, 0, 0,\n",
       "       0, 0, 0, 0, 0, 0, 0, 0, 0, 0, 0, 0, 0, 0, 0, 0, 0, 0, 0, 0, 0, 0,\n",
       "       0, 0, 0, 0, 0, 0, 0, 0, 0, 0, 0, 0, 0, 0, 0, 0, 0, 0, 0, 0, 0, 0,\n",
       "       0, 0, 0, 0, 0, 0, 0, 0, 0, 0, 0, 0, 0, 0, 0, 0, 0, 0, 0, 0, 0, 0,\n",
       "       0, 0, 0, 0, 0, 0, 0, 0, 0, 0, 0, 0, 0, 0, 0, 0, 0, 0, 0, 0, 0, 0,\n",
       "       0, 0, 0, 0, 0, 0, 0, 0, 0, 0, 0, 0, 0, 0, 0, 0, 0, 0, 0, 0, 0, 0,\n",
       "       0, 0, 0, 0, 0, 0, 0, 0, 0, 0, 0, 0, 0, 0, 0, 0, 0, 0, 0, 0, 0, 0,\n",
       "       0, 0, 0, 0, 0, 0, 0, 0, 0, 0, 0, 0, 0, 2, 0, 0, 2, 0, 0, 2, 0, 0,\n",
       "       2, 0, 0, 0, 0, 0, 0, 0, 0, 0, 0, 0, 0, 0, 0, 0, 0, 0, 0, 0, 0, 0,\n",
       "       0, 0, 0, 0, 0, 0, 1, 1, 1, 1, 1, 1, 1, 1, 1, 1, 1, 1, 1, 1, 1, 1,\n",
       "       1, 1, 1, 1, 1, 1, 1, 1, 1, 1, 1, 1, 1, 1, 1, 1, 1, 1, 1, 1, 0, 0,\n",
       "       0, 0, 0, 0, 1, 0, 0, 0, 0, 0, 0, 1, 0, 0, 0, 0, 0, 0, 1, 0, 0, 0,\n",
       "       0, 0, 0, 1, 0, 0, 0, 0, 0, 0, 1, 0, 0, 0, 0, 0, 0, 1, 0, 0, 0, 0,\n",
       "       0, 0, 1, 0, 0, 0, 0, 0, 0, 1, 0, 0, 0, 0, 0, 0, 1, 0, 0, 0, 0, 0,\n",
       "       0, 1, 0, 0, 0, 0, 0, 0, 1, 0, 0, 0, 0, 0, 0, 0, 0, 0, 0, 0, 0, 0,\n",
       "       0, 0, 0, 0, 0, 0, 0, 0, 0, 0, 0, 0, 0, 0, 0, 0], dtype=int64)"
      ]
     },
     "execution_count": 791,
     "metadata": {},
     "output_type": "execute_result"
    }
   ],
   "source": [
    "#看預測結果前500筆資料樣子\n",
    "all_probability[:500]"
   ]
  },
  {
   "cell_type": "code",
   "execution_count": 792,
   "metadata": {
    "collapsed": true
   },
   "outputs": [],
   "source": [
    "#原來(row=1,col=23539) -> reshape(row=23539,col=1*23539/23539=1)\n",
    "all_probability = all_probability.reshape(len(concatData),-1)"
   ]
  },
  {
   "cell_type": "code",
   "execution_count": 793,
   "metadata": {
    "collapsed": false
   },
   "outputs": [
    {
     "data": {
      "text/plain": [
       "array([[0],\n",
       "       [0],\n",
       "       [1],\n",
       "       ...,\n",
       "       [1],\n",
       "       [2],\n",
       "       [1]], dtype=int64)"
      ]
     },
     "execution_count": 793,
     "metadata": {},
     "output_type": "execute_result"
    }
   ],
   "source": [
    "#看預測結果資料樣子\n",
    "all_probability"
   ]
  },
  {
   "cell_type": "code",
   "execution_count": 794,
   "metadata": {
    "collapsed": false
   },
   "outputs": [
    {
     "data": {
      "text/plain": [
       "array([[ -0.71777,  -1.93604,  -9.7876 , ...,   0.     ,   0.     ,\n",
       "          0.     ],\n",
       "       [ -2.75635,  -1.40381,  -9.79492, ...,   0.     ,   0.     ,\n",
       "          0.     ],\n",
       "       [  0.2417 ,  -5.42969,  -8.45215, ...,   0.     ,   0.     ,\n",
       "          0.     ],\n",
       "       ...,\n",
       "       [ -4.4751 ,  -5.22705, -12.75879, ...,   1.     ,   0.     ,\n",
       "          0.     ],\n",
       "       [  5.49561,   7.19971, -11.26953, ...,   0.     ,   0.     ,\n",
       "          1.     ],\n",
       "       [  1.18408,  -0.64941,  -3.98682, ...,   0.     ,   0.     ,\n",
       "          1.     ]])"
      ]
     },
     "execution_count": 794,
     "metadata": {},
     "output_type": "execute_result"
    }
   ],
   "source": [
    "#看原資料樣子\n",
    "concatData"
   ]
  },
  {
   "cell_type": "code",
   "execution_count": 795,
   "metadata": {
    "collapsed": true
   },
   "outputs": [],
   "source": [
    "#橫向(水平線)合併'原資料'和'預測結果'\n",
    "result = np.hstack((concatData,all_probability))"
   ]
  },
  {
   "cell_type": "code",
   "execution_count": 796,
   "metadata": {
    "collapsed": false
   },
   "outputs": [
    {
     "data": {
      "text/plain": [
       "array([ 2.172850e+00, -2.817380e+00, -7.583010e+00, -3.421374e+01,\n",
       "       -4.902290e+01,  2.621374e+01, -3.352050e+00,  5.200200e-01,\n",
       "       -1.010742e+01,  3.817000e-02, -5.538168e+01,  5.169466e+01,\n",
       "       -4.362790e+00, -1.098630e+00, -1.126465e+01,  6.297710e+00,\n",
       "        2.891603e+01,  4.561832e+01, -1.667480e+00, -1.728520e+00,\n",
       "       -1.247559e+01,  1.487023e+01,  9.180916e+01,  2.241221e+01,\n",
       "        1.306150e+00, -1.738280e+00, -9.150390e+00,  4.450382e+01,\n",
       "        5.304580e+01, -6.511450e+00,  3.149400e-01, -3.730470e+00,\n",
       "       -1.008789e+01,  1.903817e+01, -1.246565e+01,  1.297700e-01,\n",
       "       -1.928710e+00, -3.056640e+00, -8.178710e+00,  8.244270e+00,\n",
       "       -6.114500e+00, -5.351150e+00, -1.962890e+00, -2.824710e+00,\n",
       "       -9.572750e+00, -3.862600e+00, -1.248092e+01, -1.712214e+01,\n",
       "       -1.628420e+00, -9.521500e-01, -9.973140e+00, -1.811450e+01,\n",
       "        5.374050e+00, -3.071756e+01, -1.247560e+00,  1.103520e+00,\n",
       "       -8.129880e+00, -1.090076e+01,  2.818321e+01, -3.484733e+01,\n",
       "        3.881800e-01,  7.568400e-01, -9.904790e+00,  9.175570e+00,\n",
       "        3.295420e+01, -4.189313e+01,  3.173800e-01, -3.044430e+00,\n",
       "       -9.084470e+00,  1.085496e+01,  3.284733e+01, -4.789313e+01,\n",
       "       -3.735400e-01, -2.434080e+00, -8.320310e+00, -1.132824e+01,\n",
       "        5.980916e+01, -5.005344e+01,  1.872560e+00, -8.252000e-01,\n",
       "       -8.581540e+00, -1.686260e+01,  2.980153e+01, -4.722137e+01,\n",
       "        3.068850e+00, -1.113280e+00, -9.743650e+00, -1.390076e+01,\n",
       "       -2.865649e+01, -4.791603e+01,  1.530760e+00, -1.667480e+00,\n",
       "       -1.337646e+01, -5.480920e+00, -6.743511e+01, -2.441221e+01,\n",
       "       -2.133790e+00, -2.468260e+00, -1.181152e+01,  2.369466e+01,\n",
       "       -8.106107e+01,  3.834351e+01,  4.882800e-01, -4.479980e+00,\n",
       "       -1.198730e+01, -2.229010e+00,  1.424427e+01,  3.345802e+01,\n",
       "        2.905270e+00, -2.695310e+00, -7.207030e+00, -1.553435e+01,\n",
       "       -7.847330e+00,  3.755725e+01,  2.478030e+00, -2.460940e+00,\n",
       "       -9.489750e+00, -1.848855e+01, -1.680153e+01,  4.601527e+01,\n",
       "        1.447750e+00, -1.726070e+00, -1.008057e+01, -2.804580e+01,\n",
       "       -2.938168e+01,  7.210687e+01,  2.148400e-01, -6.713900e-01,\n",
       "       -9.692380e+00, -5.003053e+01, -3.360305e+01,  8.158779e+01,\n",
       "       -6.469700e-01,  6.738300e-01, -9.260250e+00, -3.593130e+01,\n",
       "       -3.896183e+01,  6.790840e+01, -1.621090e+00, -2.253420e+00,\n",
       "       -9.213870e+00, -1.553435e+01, -2.740458e+01,  4.012214e+01,\n",
       "        2.172900e-01, -6.103500e-01, -6.896970e+00, -3.174809e+01,\n",
       "       -3.723664e+01,  3.745802e+01, -3.332520e+00,  3.857400e-01,\n",
       "       -9.497070e+00,  4.122100e-01, -4.786260e+00,  6.773282e+01,\n",
       "       -6.787100e-01,  8.081100e-01, -9.494630e+00,  2.519084e+01,\n",
       "        7.534350e+00,  6.615267e+01, -8.789100e-01, -2.810060e+00,\n",
       "       -1.362549e+01,  3.472519e+01, -5.641220e+00,  3.425954e+01,\n",
       "       -3.835450e+00, -1.958010e+00, -9.624020e+00, -6.000000e+00,\n",
       "       -3.663359e+01, -4.610690e+00, -3.688960e+00, -2.905270e+00,\n",
       "       -8.583980e+00, -3.137400e+00, -2.564890e+00, -1.114504e+01,\n",
       "        0.000000e+00,  1.000000e+00,  0.000000e+00,  0.000000e+00,\n",
       "        1.000000e+00])"
      ]
     },
     "execution_count": 796,
     "metadata": {},
     "output_type": "execute_result"
    }
   ],
   "source": [
    "#看資料樣子 (前 180 col=x, 接續 5 col=y, 後 1 col=預測結果)\n",
    "result[1000,:]"
   ]
  },
  {
   "cell_type": "code",
   "execution_count": null,
   "metadata": {
    "collapsed": true
   },
   "outputs": [],
   "source": []
  },
  {
   "cell_type": "code",
   "execution_count": null,
   "metadata": {
    "collapsed": true
   },
   "outputs": [],
   "source": []
  },
  {
   "cell_type": "markdown",
   "metadata": {},
   "source": [
    "# 混淆矩陣"
   ]
  },
  {
   "cell_type": "markdown",
   "metadata": {},
   "source": [
    "# gina加上oldmom資料進行預測後 => 結果的混淆矩陣"
   ]
  },
  {
   "cell_type": "code",
   "execution_count": 797,
   "metadata": {
    "collapsed": true
   },
   "outputs": [],
   "source": [
    "#真實Y (gina 22320筆 + oldmom 1219筆 = 23539筆)\n",
    "y_actu_gina = np.vstack((d_stand,d_walk,d_run,d_rest))   ##d_rest=d_lie+d_sit\n",
    "y_actu_oldmom = pd.read_csv('C:/Users/Big data/Desktop/gina_log/sample_A1_all_noTime_Y_value-test5State.csv',header=None)\n",
    "y_actu_oldmom = y_actu_oldmom.values                ##轉成array\n",
    "y_actu = np.vstack((y_actu_gina,y_actu_oldmom))     ##垂直合併\n",
    "y_actu = y_actu.reshape((1, -1)).tolist()           ##轉成1個row (直行轉成橫列) #轉成list\n",
    "#預測Y\n",
    "y_pred = all_probability\n",
    "y_pred = y_pred.reshape((1, -1)).tolist()           ##轉成1個row (直行轉成橫列) #轉成list\n",
    "\n",
    "df_confusion = pd.crosstab(y_actu, y_pred, rownames=['label'], colnames=['predic'])     ##混淆矩陣 pd.crosstab()"
   ]
  },
  {
   "cell_type": "code",
   "execution_count": 798,
   "metadata": {
    "collapsed": false
   },
   "outputs": [
    {
     "data": {
      "text/html": [
       "<div>\n",
       "<style scoped>\n",
       "    .dataframe tbody tr th:only-of-type {\n",
       "        vertical-align: middle;\n",
       "    }\n",
       "\n",
       "    .dataframe tbody tr th {\n",
       "        vertical-align: top;\n",
       "    }\n",
       "\n",
       "    .dataframe thead th {\n",
       "        text-align: right;\n",
       "    }\n",
       "</style>\n",
       "<table border=\"1\" class=\"dataframe\">\n",
       "  <thead>\n",
       "    <tr style=\"text-align: right;\">\n",
       "      <th>predic</th>\n",
       "      <th>0</th>\n",
       "      <th>1</th>\n",
       "      <th>2</th>\n",
       "      <th>3</th>\n",
       "    </tr>\n",
       "    <tr>\n",
       "      <th>label</th>\n",
       "      <th></th>\n",
       "      <th></th>\n",
       "      <th></th>\n",
       "      <th></th>\n",
       "    </tr>\n",
       "  </thead>\n",
       "  <tbody>\n",
       "    <tr>\n",
       "      <th>0.0</th>\n",
       "      <td>705</td>\n",
       "      <td>209</td>\n",
       "      <td>14</td>\n",
       "      <td>3</td>\n",
       "    </tr>\n",
       "    <tr>\n",
       "      <th>1.0</th>\n",
       "      <td>986</td>\n",
       "      <td>7020</td>\n",
       "      <td>2387</td>\n",
       "      <td>292</td>\n",
       "    </tr>\n",
       "    <tr>\n",
       "      <th>2.0</th>\n",
       "      <td>0</td>\n",
       "      <td>0</td>\n",
       "      <td>3</td>\n",
       "      <td>0</td>\n",
       "    </tr>\n",
       "    <tr>\n",
       "      <th>3.0</th>\n",
       "      <td>7104</td>\n",
       "      <td>309</td>\n",
       "      <td>12</td>\n",
       "      <td>2255</td>\n",
       "    </tr>\n",
       "  </tbody>\n",
       "</table>\n",
       "</div>"
      ],
      "text/plain": [
       "predic     0     1     2     3\n",
       "label                         \n",
       "0.0      705   209    14     3\n",
       "1.0      986  7020  2387   292\n",
       "2.0        0     0     3     0\n",
       "3.0     7104   309    12  2255"
      ]
     },
     "execution_count": 798,
     "metadata": {},
     "output_type": "execute_result"
    }
   ],
   "source": [
    "df_confusion"
   ]
  },
  {
   "cell_type": "markdown",
   "metadata": {},
   "source": [
    "# oldmom資料進行預測後 => 結果的混淆矩陣"
   ]
  },
  {
   "cell_type": "code",
   "execution_count": 799,
   "metadata": {
    "collapsed": true
   },
   "outputs": [],
   "source": [
    "#真實Y (oldmom 1219筆)\n",
    "y_actu = pd.read_csv('C:/Users/Big data/Desktop/gina_log/sample_A1_all_noTime_Y_value-test5State.csv',header=None)\n",
    "y_actu = y_actu.values.reshape((1, -1)).tolist()        ##轉成1個row (直行轉成橫列) #轉成list\n",
    "#預測Y\n",
    "y_pred = all_probability\n",
    "y_pred = y_pred[len(concatData_y):,:]\n",
    "y_pred = y_pred.reshape((1, -1)).tolist()               ##轉成1個row (直行轉成橫列) #轉成list\n",
    "\n",
    "df_confusion = pd.crosstab(y_actu, y_pred, rownames=['label'], colnames=['predic'])"
   ]
  },
  {
   "cell_type": "code",
   "execution_count": 800,
   "metadata": {
    "collapsed": false
   },
   "outputs": [
    {
     "data": {
      "text/html": [
       "<div>\n",
       "<style scoped>\n",
       "    .dataframe tbody tr th:only-of-type {\n",
       "        vertical-align: middle;\n",
       "    }\n",
       "\n",
       "    .dataframe tbody tr th {\n",
       "        vertical-align: top;\n",
       "    }\n",
       "\n",
       "    .dataframe thead th {\n",
       "        text-align: right;\n",
       "    }\n",
       "</style>\n",
       "<table border=\"1\" class=\"dataframe\">\n",
       "  <thead>\n",
       "    <tr style=\"text-align: right;\">\n",
       "      <th>predic</th>\n",
       "      <th>0</th>\n",
       "      <th>1</th>\n",
       "      <th>2</th>\n",
       "      <th>3</th>\n",
       "    </tr>\n",
       "    <tr>\n",
       "      <th>label</th>\n",
       "      <th></th>\n",
       "      <th></th>\n",
       "      <th></th>\n",
       "      <th></th>\n",
       "    </tr>\n",
       "  </thead>\n",
       "  <tbody>\n",
       "    <tr>\n",
       "      <th>0</th>\n",
       "      <td>179</td>\n",
       "      <td>156</td>\n",
       "      <td>10</td>\n",
       "      <td>3</td>\n",
       "    </tr>\n",
       "    <tr>\n",
       "      <th>1</th>\n",
       "      <td>346</td>\n",
       "      <td>440</td>\n",
       "      <td>20</td>\n",
       "      <td>63</td>\n",
       "    </tr>\n",
       "    <tr>\n",
       "      <th>3</th>\n",
       "      <td>0</td>\n",
       "      <td>1</td>\n",
       "      <td>1</td>\n",
       "      <td>0</td>\n",
       "    </tr>\n",
       "  </tbody>\n",
       "</table>\n",
       "</div>"
      ],
      "text/plain": [
       "predic    0    1   2   3\n",
       "label                   \n",
       "0       179  156  10   3\n",
       "1       346  440  20  63\n",
       "3         0    1   1   0"
      ]
     },
     "execution_count": 800,
     "metadata": {},
     "output_type": "execute_result"
    }
   ],
   "source": [
    "df_confusion"
   ]
  },
  {
   "cell_type": "code",
   "execution_count": null,
   "metadata": {
    "collapsed": true
   },
   "outputs": [],
   "source": []
  },
  {
   "cell_type": "markdown",
   "metadata": {},
   "source": [
    "# gina資料進行預測後 => 結果的混淆矩陣"
   ]
  },
  {
   "cell_type": "code",
   "execution_count": 801,
   "metadata": {
    "collapsed": true
   },
   "outputs": [],
   "source": [
    "#真實Y (gina 22320筆)\n",
    "y_actu_gina = np.vstack((d_stand,d_walk,d_run,d_rest))   ##d_rest=d_lie+d_sit\n",
    "y_actu = y_actu_gina.reshape((1, -1)).tolist()           ##轉成1個row (直行轉成橫列)  #轉成list\n",
    "#預測Y\n",
    "y_pred = all_probability[:len(concatData_y),:]\n",
    "y_pred = y_pred.reshape((1, -1)).tolist()           ##轉成1個row (直行轉成橫列)  #轉成list\n",
    "\n",
    "df_confusion = pd.crosstab(y_actu, y_pred, rownames=['label'], colnames=['predic'])"
   ]
  },
  {
   "cell_type": "code",
   "execution_count": 802,
   "metadata": {
    "collapsed": false
   },
   "outputs": [
    {
     "data": {
      "text/html": [
       "<div>\n",
       "<style scoped>\n",
       "    .dataframe tbody tr th:only-of-type {\n",
       "        vertical-align: middle;\n",
       "    }\n",
       "\n",
       "    .dataframe tbody tr th {\n",
       "        vertical-align: top;\n",
       "    }\n",
       "\n",
       "    .dataframe thead th {\n",
       "        text-align: right;\n",
       "    }\n",
       "</style>\n",
       "<table border=\"1\" class=\"dataframe\">\n",
       "  <thead>\n",
       "    <tr style=\"text-align: right;\">\n",
       "      <th>predic</th>\n",
       "      <th>0</th>\n",
       "      <th>1</th>\n",
       "      <th>2</th>\n",
       "      <th>3</th>\n",
       "    </tr>\n",
       "    <tr>\n",
       "      <th>label</th>\n",
       "      <th></th>\n",
       "      <th></th>\n",
       "      <th></th>\n",
       "      <th></th>\n",
       "    </tr>\n",
       "  </thead>\n",
       "  <tbody>\n",
       "    <tr>\n",
       "      <th>0.0</th>\n",
       "      <td>526</td>\n",
       "      <td>53</td>\n",
       "      <td>4</td>\n",
       "      <td>0</td>\n",
       "    </tr>\n",
       "    <tr>\n",
       "      <th>1.0</th>\n",
       "      <td>640</td>\n",
       "      <td>6580</td>\n",
       "      <td>2367</td>\n",
       "      <td>229</td>\n",
       "    </tr>\n",
       "    <tr>\n",
       "      <th>2.0</th>\n",
       "      <td>0</td>\n",
       "      <td>0</td>\n",
       "      <td>3</td>\n",
       "      <td>0</td>\n",
       "    </tr>\n",
       "    <tr>\n",
       "      <th>3.0</th>\n",
       "      <td>7104</td>\n",
       "      <td>308</td>\n",
       "      <td>11</td>\n",
       "      <td>2255</td>\n",
       "    </tr>\n",
       "  </tbody>\n",
       "</table>\n",
       "</div>"
      ],
      "text/plain": [
       "predic     0     1     2     3\n",
       "label                         \n",
       "0.0      526    53     4     0\n",
       "1.0      640  6580  2367   229\n",
       "2.0        0     0     3     0\n",
       "3.0     7104   308    11  2255"
      ]
     },
     "execution_count": 802,
     "metadata": {},
     "output_type": "execute_result"
    }
   ],
   "source": [
    "df_confusion"
   ]
  },
  {
   "cell_type": "code",
   "execution_count": 803,
   "metadata": {
    "collapsed": false
   },
   "outputs": [
    {
     "data": {
      "text/plain": [
       "array([[0.],\n",
       "       [0.],\n",
       "       [0.],\n",
       "       ...,\n",
       "       [3.],\n",
       "       [3.],\n",
       "       [3.]])"
      ]
     },
     "execution_count": 803,
     "metadata": {},
     "output_type": "execute_result"
    }
   ],
   "source": [
    "y_actu_gina"
   ]
  },
  {
   "cell_type": "code",
   "execution_count": null,
   "metadata": {
    "collapsed": true
   },
   "outputs": [],
   "source": []
  },
  {
   "cell_type": "code",
   "execution_count": null,
   "metadata": {
    "collapsed": true
   },
   "outputs": [],
   "source": []
  }
 ],
 "metadata": {
  "kernelspec": {
   "display_name": "Python 3",
   "language": "python",
   "name": "python3"
  },
  "language_info": {
   "codemirror_mode": {
    "name": "ipython",
    "version": 3
   },
   "file_extension": ".py",
   "mimetype": "text/x-python",
   "name": "python",
   "nbconvert_exporter": "python",
   "pygments_lexer": "ipython3",
   "version": "3.6.0"
  }
 },
 "nbformat": 4,
 "nbformat_minor": 2
}
