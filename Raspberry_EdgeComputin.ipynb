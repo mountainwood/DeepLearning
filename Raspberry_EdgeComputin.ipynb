{
 "cells": [
  {
   "cell_type": "code",
   "execution_count": null,
   "metadata": {},
   "outputs": [
    {
     "name": "stderr",
     "output_type": "stream",
     "text": [
      "Using TensorFlow backend.\n"
     ]
    }
   ],
   "source": [
    "import sys\n",
    "#import pandas as pd\n",
    "import numpy as np\n",
    "#from keras.utils import np_utils\n",
    "from keras.models import Sequential\n",
    "from keras.layers import Dense, Dropout, Flatten, Conv2D, MaxPooling2D"
   ]
  },
  {
   "cell_type": "code",
   "execution_count": null,
   "metadata": {
    "collapsed": true
   },
   "outputs": [],
   "source": [
    "##讀取模型，包含結構、加權值\n",
    "from keras.models import load_model\n",
    "#读取model  \n",
    "model=model_from_json(open('E:\\\\專題\\\\犬隻活動紀錄\\\\網路模型\\\\CNN_model_test.json').read())  \n",
    "model.load_weights('E:\\\\專題\\\\犬隻活動紀錄\\\\網路模型\\\\CNN_test_weights.h5') "
   ]
  }
 ],
 "metadata": {
  "kernelspec": {
   "display_name": "Python 3",
   "language": "python",
   "name": "python3"
  },
  "language_info": {
   "codemirror_mode": {
    "name": "ipython",
    "version": 3
   },
   "file_extension": ".py",
   "mimetype": "text/x-python",
   "name": "python",
   "nbconvert_exporter": "python",
   "pygments_lexer": "ipython3",
   "version": "3.5.4"
  }
 },
 "nbformat": 4,
 "nbformat_minor": 2
}
